{
 "metadata": {
  "language_info": {
   "codemirror_mode": {
    "name": "ipython",
    "version": 3
   },
   "file_extension": ".py",
   "mimetype": "text/x-python",
   "name": "python",
   "nbconvert_exporter": "python",
   "pygments_lexer": "ipython3",
   "version": "3.8.6-final"
  },
  "orig_nbformat": 2,
  "kernelspec": {
   "name": "python3",
   "display_name": "Python 3"
  }
 },
 "nbformat": 4,
 "nbformat_minor": 2,
 "cells": [
  {
   "cell_type": "code",
   "execution_count": 5,
   "metadata": {},
   "outputs": [],
   "source": [
    "from data_preprocessing import decompress_pickle\n",
    "from sklearn.neural_network import MLPRegressor\n",
    "from sklearn.model_selection import GridSearchCV\n",
    "import pickle"
   ]
  },
  {
   "cell_type": "code",
   "execution_count": 6,
   "metadata": {},
   "outputs": [],
   "source": [
    "X_test = decompress_pickle(\"../data/partitioned/BikeRental_X_test.pbz2\")\n",
    "X_train = decompress_pickle(\"../data/partitioned/BikeRental_X_train.pbz2\")\n",
    "Y_test = decompress_pickle(\"../data/partitioned/BikeRental_Y_test.pbz2\")\n",
    "Y_train =decompress_pickle(\"../data/partitioned/BikeRental_Y_train.pbz2\")\n"
   ]
  },
  {
   "cell_type": "code",
   "execution_count": 9,
   "metadata": {},
   "outputs": [
    {
     "output_type": "execute_result",
     "data": {
      "text/plain": [
       "(3509, 12)"
      ]
     },
     "metadata": {},
     "execution_count": 9
    }
   ],
   "source": [
    "X_test.shape"
   ]
  },
  {
   "cell_type": "code",
   "execution_count": 10,
   "metadata": {},
   "outputs": [
    {
     "output_type": "execute_result",
     "data": {
      "text/plain": [
       "(14035, 12)"
      ]
     },
     "metadata": {},
     "execution_count": 10
    }
   ],
   "source": [
    "X_train.shape"
   ]
  },
  {
   "cell_type": "code",
   "execution_count": 11,
   "metadata": {},
   "outputs": [],
   "source": [
    "X_test = X_test.drop(\"datetime\", axis = 1)\n",
    "X_train = X_train.drop(\"datetime\", axis = 1)"
   ]
  },
  {
   "cell_type": "code",
   "execution_count": 12,
   "metadata": {},
   "outputs": [
    {
     "output_type": "execute_result",
     "data": {
      "text/plain": [
       "(3509, 11)"
      ]
     },
     "metadata": {},
     "execution_count": 12
    }
   ],
   "source": [
    "X_test.shape"
   ]
  },
  {
   "cell_type": "code",
   "execution_count": 13,
   "metadata": {},
   "outputs": [
    {
     "output_type": "execute_result",
     "data": {
      "text/plain": [
       "(14035, 11)"
      ]
     },
     "metadata": {},
     "execution_count": 13
    }
   ],
   "source": [
    "X_train.shape"
   ]
  },
  {
   "cell_type": "code",
   "execution_count": 14,
   "metadata": {},
   "outputs": [
    {
     "output_type": "execute_result",
     "data": {
      "text/plain": [
       "(14035,)"
      ]
     },
     "metadata": {},
     "execution_count": 14
    }
   ],
   "source": [
    "Y_train.shape"
   ]
  },
  {
   "cell_type": "code",
   "execution_count": 15,
   "metadata": {},
   "outputs": [
    {
     "output_type": "execute_result",
     "data": {
      "text/plain": [
       "(3509,)"
      ]
     },
     "metadata": {},
     "execution_count": 15
    }
   ],
   "source": [
    "Y_test.shape"
   ]
  },
  {
   "source": [
    "NN_regr_CV = MLPRegressor(solver='lbfgs', max_iter=10, random_state=0)"
   ],
   "cell_type": "code",
   "metadata": {},
   "execution_count": 16,
   "outputs": []
  },
  {
   "cell_type": "code",
   "execution_count": 17,
   "metadata": {},
   "outputs": [],
   "source": [
    "param_grid = { \n",
    "    \"hidden_layer_sizes\": [(1,), (2,)],\n",
    "    # left out identity activation function due to its linearity\n",
    "    \"activation\": [\"logistic\", \"tanh\"], \n",
    "    \"alpha\": [0.0, 0.1],\n",
    "}"
   ]
  },
  {
   "cell_type": "code",
   "execution_count": 18,
   "metadata": {},
   "outputs": [],
   "source": [
    "NN_regr_CV_model = GridSearchCV(estimator=NN_regr_CV, param_grid=param_grid, cv=5)"
   ]
  },
  {
   "cell_type": "code",
   "execution_count": 19,
   "metadata": {},
   "outputs": [
    {
     "output_type": "execute_result",
     "data": {
      "text/plain": [
       "GridSearchCV(cv=5,\n",
       "             estimator=MLPRegressor(max_iter=10, random_state=0,\n",
       "                                    solver='lbfgs'),\n",
       "             param_grid={'activation': ['logistic', 'tanh'],\n",
       "                         'alpha': [0.0, 0.1],\n",
       "                         'hidden_layer_sizes': [(1,), (2,)]})"
      ]
     },
     "metadata": {},
     "execution_count": 19
    }
   ],
   "source": [
    "NN_regr_CV_model.fit(X_train, Y_train)"
   ]
  },
  {
   "cell_type": "code",
   "execution_count": 20,
   "metadata": {},
   "outputs": [
    {
     "output_type": "stream",
     "name": "stdout",
     "text": [
      "{'activation': 'logistic', 'alpha': 0.1, 'hidden_layer_sizes': (2,)}\n"
     ]
    }
   ],
   "source": [
    "print(NN_regr_CV_model.best_params_)"
   ]
  },
  {
   "cell_type": "code",
   "execution_count": 21,
   "metadata": {},
   "outputs": [],
   "source": [
    "NN_regr_CV = NN_regr_CV.set_params(**NN_regr_CV_model.best_params_)"
   ]
  },
  {
   "cell_type": "code",
   "execution_count": 22,
   "metadata": {},
   "outputs": [
    {
     "output_type": "execute_result",
     "data": {
      "text/plain": [
       "MLPRegressor(activation='logistic', alpha=0.1, hidden_layer_sizes=(2,),\n",
       "             max_iter=10, random_state=0, solver='lbfgs')"
      ]
     },
     "metadata": {},
     "execution_count": 22
    }
   ],
   "source": [
    "NN_regr_CV.fit(X_train, Y_train)"
   ]
  },
  {
   "cell_type": "code",
   "execution_count": 23,
   "metadata": {},
   "outputs": [],
   "source": [
    "Y_train_pred = NN_regr_CV.predict(X_train)"
   ]
  },
  {
   "cell_type": "code",
   "execution_count": 24,
   "metadata": {},
   "outputs": [],
   "source": [
    "Y_train_dev = sum((Y_train-Y_train_pred)**2)"
   ]
  },
  {
   "cell_type": "code",
   "execution_count": 25,
   "metadata": {},
   "outputs": [],
   "source": [
    "Y_train_mean = Y_train.mean()\n",
    "Y_train_meandev = sum((Y_train-Y_train_mean)**2)"
   ]
  },
  {
   "cell_type": "code",
   "execution_count": 26,
   "metadata": {},
   "outputs": [
    {
     "output_type": "stream",
     "name": "stdout",
     "text": [
      "R2 : 0.23825544944415122\n"
     ]
    }
   ],
   "source": [
    "r2 = 1 - Y_train_dev/Y_train_meandev\n",
    "print(\"R2 :\", r2)"
   ]
  },
  {
   "cell_type": "code",
   "execution_count": 27,
   "metadata": {},
   "outputs": [],
   "source": [
    "Y_test_pred = NN_regr_CV.predict(X_test)"
   ]
  },
  {
   "cell_type": "code",
   "execution_count": 28,
   "metadata": {},
   "outputs": [],
   "source": [
    "Y_test_dev = sum((Y_test-Y_test_pred)**2)"
   ]
  },
  {
   "cell_type": "code",
   "execution_count": 29,
   "metadata": {},
   "outputs": [],
   "source": [
    "Y_test_meandev = sum((Y_test-Y_train_mean)**2)"
   ]
  },
  {
   "cell_type": "code",
   "execution_count": 30,
   "metadata": {},
   "outputs": [
    {
     "output_type": "stream",
     "name": "stdout",
     "text": [
      "Pseudo-R2 : 0.23092910557181112\n"
     ]
    }
   ],
   "source": [
    "pseudor2 = 1 - Y_test_dev/Y_test_meandev\n",
    "print(\"Pseudo-R2 :\", pseudor2)"
   ]
  },
  {
   "cell_type": "code",
   "execution_count": 45,
   "metadata": {},
   "outputs": [],
   "source": [
    "import pandas as pd"
   ]
  },
  {
   "cell_type": "code",
   "execution_count": 57,
   "metadata": {},
   "outputs": [],
   "source": [
    "r2_df = pd.DataFrame(data=[r2], columns=[\"r2\"])\n"
   ]
  },
  {
   "cell_type": "code",
   "execution_count": 58,
   "metadata": {},
   "outputs": [],
   "source": [
    "pseudor2_df = pd.DataFrame(data=[pseudor2], columns=[\"pseudor2\"])\n"
   ]
  },
  {
   "cell_type": "code",
   "execution_count": 59,
   "metadata": {},
   "outputs": [],
   "source": [
    "r_squared_values = pd.concat([r2_df, pseudor2_df], axis=1)\n"
   ]
  },
  {
   "cell_type": "code",
   "execution_count": 60,
   "metadata": {},
   "outputs": [
    {
     "output_type": "execute_result",
     "data": {
      "text/plain": [
       "         r2  pseudor2\n",
       "0  0.238255  0.230929"
      ],
      "text/html": "<div>\n<style scoped>\n    .dataframe tbody tr th:only-of-type {\n        vertical-align: middle;\n    }\n\n    .dataframe tbody tr th {\n        vertical-align: top;\n    }\n\n    .dataframe thead th {\n        text-align: right;\n    }\n</style>\n<table border=\"1\" class=\"dataframe\">\n  <thead>\n    <tr style=\"text-align: right;\">\n      <th></th>\n      <th>r2</th>\n      <th>pseudor2</th>\n    </tr>\n  </thead>\n  <tbody>\n    <tr>\n      <th>0</th>\n      <td>0.238255</td>\n      <td>0.230929</td>\n    </tr>\n  </tbody>\n</table>\n</div>"
     },
     "metadata": {},
     "execution_count": 60
    }
   ],
   "source": [
    "r_squared_values"
   ]
  },
  {
   "cell_type": "code",
   "execution_count": 61,
   "metadata": {},
   "outputs": [],
   "source": [
    "optimal_parameters = pd.DataFrame(NN_regr_CV_model.best_params_)\n"
   ]
  },
  {
   "cell_type": "code",
   "execution_count": 62,
   "metadata": {},
   "outputs": [
    {
     "output_type": "execute_result",
     "data": {
      "text/plain": [
       "  activation  alpha  hidden_layer_sizes\n",
       "0   logistic    0.1                   2"
      ],
      "text/html": "<div>\n<style scoped>\n    .dataframe tbody tr th:only-of-type {\n        vertical-align: middle;\n    }\n\n    .dataframe tbody tr th {\n        vertical-align: top;\n    }\n\n    .dataframe thead th {\n        text-align: right;\n    }\n</style>\n<table border=\"1\" class=\"dataframe\">\n  <thead>\n    <tr style=\"text-align: right;\">\n      <th></th>\n      <th>activation</th>\n      <th>alpha</th>\n      <th>hidden_layer_sizes</th>\n    </tr>\n  </thead>\n  <tbody>\n    <tr>\n      <th>0</th>\n      <td>logistic</td>\n      <td>0.1</td>\n      <td>2</td>\n    </tr>\n  </tbody>\n</table>\n</div>"
     },
     "metadata": {},
     "execution_count": 62
    }
   ],
   "source": [
    "optimal_parameters"
   ]
  },
  {
   "cell_type": "code",
   "execution_count": 60,
   "metadata": {},
   "outputs": [
    {
     "output_type": "execute_result",
     "data": {
      "text/plain": [
       "array([ 0.56395187,  0.38366951,  0.28715363, ...,  0.07505116,\n",
       "        0.03568653, -0.0189239 ])"
      ]
     },
     "metadata": {},
     "execution_count": 60
    }
   ],
   "source": [
    "Y_test_pred"
   ]
  },
  {
   "cell_type": "code",
   "execution_count": 62,
   "metadata": {},
   "outputs": [],
   "source": [
    "# create resulting dataframe (full dataframe (incl. unnormalized) for last 20%)"
   ]
  },
  {
   "cell_type": "code",
   "execution_count": 37,
   "metadata": {},
   "outputs": [
    {
     "output_type": "execute_result",
     "data": {
      "text/plain": [
       "array([0.25029175, 0.25226582, 0.25356673, ..., 0.25270876, 0.25401649,\n",
       "       0.2553255 ])"
      ]
     },
     "metadata": {},
     "execution_count": 37
    }
   ],
   "source": [
    "Y_test_pred"
   ]
  },
  {
   "cell_type": "code",
   "execution_count": 93,
   "metadata": {},
   "outputs": [
    {
     "output_type": "execute_result",
     "data": {
      "text/plain": [
       "           cnt\n",
       "0     0.250292\n",
       "1     0.252266\n",
       "2     0.253567\n",
       "3     0.256655\n",
       "4     0.257311\n",
       "...        ...\n",
       "3504  0.243835\n",
       "3505  0.246857\n",
       "3506  0.252709\n",
       "3507  0.254016\n",
       "3508  0.255325\n",
       "\n",
       "[3509 rows x 1 columns]"
      ],
      "text/html": "<div>\n<style scoped>\n    .dataframe tbody tr th:only-of-type {\n        vertical-align: middle;\n    }\n\n    .dataframe tbody tr th {\n        vertical-align: top;\n    }\n\n    .dataframe thead th {\n        text-align: right;\n    }\n</style>\n<table border=\"1\" class=\"dataframe\">\n  <thead>\n    <tr style=\"text-align: right;\">\n      <th></th>\n      <th>cnt</th>\n    </tr>\n  </thead>\n  <tbody>\n    <tr>\n      <th>0</th>\n      <td>0.250292</td>\n    </tr>\n    <tr>\n      <th>1</th>\n      <td>0.252266</td>\n    </tr>\n    <tr>\n      <th>2</th>\n      <td>0.253567</td>\n    </tr>\n    <tr>\n      <th>3</th>\n      <td>0.256655</td>\n    </tr>\n    <tr>\n      <th>4</th>\n      <td>0.257311</td>\n    </tr>\n    <tr>\n      <th>...</th>\n      <td>...</td>\n    </tr>\n    <tr>\n      <th>3504</th>\n      <td>0.243835</td>\n    </tr>\n    <tr>\n      <th>3505</th>\n      <td>0.246857</td>\n    </tr>\n    <tr>\n      <th>3506</th>\n      <td>0.252709</td>\n    </tr>\n    <tr>\n      <th>3507</th>\n      <td>0.254016</td>\n    </tr>\n    <tr>\n      <th>3508</th>\n      <td>0.255325</td>\n    </tr>\n  </tbody>\n</table>\n<p>3509 rows × 1 columns</p>\n</div>"
     },
     "metadata": {},
     "execution_count": 93
    }
   ],
   "source": [
    "prediction_Y = pd.DataFrame(data=Y_test_pred, columns=[\"cnt\"])\n",
    "prediction_Y"
   ]
  },
  {
   "cell_type": "code",
   "execution_count": null,
   "metadata": {},
   "outputs": [],
   "source": [
    "kannst die echten Werte ausrechnen durch: X_scaled = X_std * (max - min) + min"
   ]
  },
  {
   "cell_type": "code",
   "execution_count": 108,
   "metadata": {},
   "outputs": [
    {
     "output_type": "error",
     "ename": "KeyError",
     "evalue": "1",
     "traceback": [
      "\u001b[0;31m---------------------------------------------------------------------------\u001b[0m",
      "\u001b[0;31mKeyError\u001b[0m                                  Traceback (most recent call last)",
      "\u001b[0;32m/usr/local/lib/python3.8/site-packages/pandas/core/indexes/base.py\u001b[0m in \u001b[0;36mget_loc\u001b[0;34m(self, key, method, tolerance)\u001b[0m\n\u001b[1;32m   2894\u001b[0m             \u001b[0;32mtry\u001b[0m\u001b[0;34m:\u001b[0m\u001b[0;34m\u001b[0m\u001b[0;34m\u001b[0m\u001b[0m\n\u001b[0;32m-> 2895\u001b[0;31m                 \u001b[0;32mreturn\u001b[0m \u001b[0mself\u001b[0m\u001b[0;34m.\u001b[0m\u001b[0m_engine\u001b[0m\u001b[0;34m.\u001b[0m\u001b[0mget_loc\u001b[0m\u001b[0;34m(\u001b[0m\u001b[0mcasted_key\u001b[0m\u001b[0;34m)\u001b[0m\u001b[0;34m\u001b[0m\u001b[0;34m\u001b[0m\u001b[0m\n\u001b[0m\u001b[1;32m   2896\u001b[0m             \u001b[0;32mexcept\u001b[0m \u001b[0mKeyError\u001b[0m \u001b[0;32mas\u001b[0m \u001b[0merr\u001b[0m\u001b[0;34m:\u001b[0m\u001b[0;34m\u001b[0m\u001b[0;34m\u001b[0m\u001b[0m\n",
      "\u001b[0;32mpandas/_libs/index.pyx\u001b[0m in \u001b[0;36mpandas._libs.index.IndexEngine.get_loc\u001b[0;34m()\u001b[0m\n",
      "\u001b[0;32mpandas/_libs/index.pyx\u001b[0m in \u001b[0;36mpandas._libs.index.IndexEngine.get_loc\u001b[0;34m()\u001b[0m\n",
      "\u001b[0;32mpandas/_libs/hashtable_class_helper.pxi\u001b[0m in \u001b[0;36mpandas._libs.hashtable.PyObjectHashTable.get_item\u001b[0;34m()\u001b[0m\n",
      "\u001b[0;32mpandas/_libs/hashtable_class_helper.pxi\u001b[0m in \u001b[0;36mpandas._libs.hashtable.PyObjectHashTable.get_item\u001b[0;34m()\u001b[0m\n",
      "\u001b[0;31mKeyError\u001b[0m: 1",
      "\nThe above exception was the direct cause of the following exception:\n",
      "\u001b[0;31mKeyError\u001b[0m                                  Traceback (most recent call last)",
      "\u001b[0;32m<ipython-input-108-04e2c285e59d>\u001b[0m in \u001b[0;36m<module>\u001b[0;34m\u001b[0m\n\u001b[1;32m      1\u001b[0m \u001b[0mmax_min_cnt\u001b[0m \u001b[0;34m=\u001b[0m \u001b[0mdecompress_pickle\u001b[0m\u001b[0;34m(\u001b[0m\u001b[0;34m\"../data/preprocessed/cnt_min_max.pbz2\"\u001b[0m\u001b[0;34m)\u001b[0m\u001b[0;34m\u001b[0m\u001b[0;34m\u001b[0m\u001b[0m\n\u001b[0;32m----> 2\u001b[0;31m \u001b[0mmax_cnt\u001b[0m \u001b[0;34m=\u001b[0m \u001b[0mmax_min_cnt\u001b[0m\u001b[0;34m[\u001b[0m\u001b[0;36m1\u001b[0m\u001b[0;34m]\u001b[0m\u001b[0;34m\u001b[0m\u001b[0;34m\u001b[0m\u001b[0m\n\u001b[0m",
      "\u001b[0;32m/usr/local/lib/python3.8/site-packages/pandas/core/frame.py\u001b[0m in \u001b[0;36m__getitem__\u001b[0;34m(self, key)\u001b[0m\n\u001b[1;32m   2900\u001b[0m             \u001b[0;32mif\u001b[0m \u001b[0mself\u001b[0m\u001b[0;34m.\u001b[0m\u001b[0mcolumns\u001b[0m\u001b[0;34m.\u001b[0m\u001b[0mnlevels\u001b[0m \u001b[0;34m>\u001b[0m \u001b[0;36m1\u001b[0m\u001b[0;34m:\u001b[0m\u001b[0;34m\u001b[0m\u001b[0;34m\u001b[0m\u001b[0m\n\u001b[1;32m   2901\u001b[0m                 \u001b[0;32mreturn\u001b[0m \u001b[0mself\u001b[0m\u001b[0;34m.\u001b[0m\u001b[0m_getitem_multilevel\u001b[0m\u001b[0;34m(\u001b[0m\u001b[0mkey\u001b[0m\u001b[0;34m)\u001b[0m\u001b[0;34m\u001b[0m\u001b[0;34m\u001b[0m\u001b[0m\n\u001b[0;32m-> 2902\u001b[0;31m             \u001b[0mindexer\u001b[0m \u001b[0;34m=\u001b[0m \u001b[0mself\u001b[0m\u001b[0;34m.\u001b[0m\u001b[0mcolumns\u001b[0m\u001b[0;34m.\u001b[0m\u001b[0mget_loc\u001b[0m\u001b[0;34m(\u001b[0m\u001b[0mkey\u001b[0m\u001b[0;34m)\u001b[0m\u001b[0;34m\u001b[0m\u001b[0;34m\u001b[0m\u001b[0m\n\u001b[0m\u001b[1;32m   2903\u001b[0m             \u001b[0;32mif\u001b[0m \u001b[0mis_integer\u001b[0m\u001b[0;34m(\u001b[0m\u001b[0mindexer\u001b[0m\u001b[0;34m)\u001b[0m\u001b[0;34m:\u001b[0m\u001b[0;34m\u001b[0m\u001b[0;34m\u001b[0m\u001b[0m\n\u001b[1;32m   2904\u001b[0m                 \u001b[0mindexer\u001b[0m \u001b[0;34m=\u001b[0m \u001b[0;34m[\u001b[0m\u001b[0mindexer\u001b[0m\u001b[0;34m]\u001b[0m\u001b[0;34m\u001b[0m\u001b[0;34m\u001b[0m\u001b[0m\n",
      "\u001b[0;32m/usr/local/lib/python3.8/site-packages/pandas/core/indexes/base.py\u001b[0m in \u001b[0;36mget_loc\u001b[0;34m(self, key, method, tolerance)\u001b[0m\n\u001b[1;32m   2895\u001b[0m                 \u001b[0;32mreturn\u001b[0m \u001b[0mself\u001b[0m\u001b[0;34m.\u001b[0m\u001b[0m_engine\u001b[0m\u001b[0;34m.\u001b[0m\u001b[0mget_loc\u001b[0m\u001b[0;34m(\u001b[0m\u001b[0mcasted_key\u001b[0m\u001b[0;34m)\u001b[0m\u001b[0;34m\u001b[0m\u001b[0;34m\u001b[0m\u001b[0m\n\u001b[1;32m   2896\u001b[0m             \u001b[0;32mexcept\u001b[0m \u001b[0mKeyError\u001b[0m \u001b[0;32mas\u001b[0m \u001b[0merr\u001b[0m\u001b[0;34m:\u001b[0m\u001b[0;34m\u001b[0m\u001b[0;34m\u001b[0m\u001b[0m\n\u001b[0;32m-> 2897\u001b[0;31m                 \u001b[0;32mraise\u001b[0m \u001b[0mKeyError\u001b[0m\u001b[0;34m(\u001b[0m\u001b[0mkey\u001b[0m\u001b[0;34m)\u001b[0m \u001b[0;32mfrom\u001b[0m \u001b[0merr\u001b[0m\u001b[0;34m\u001b[0m\u001b[0;34m\u001b[0m\u001b[0m\n\u001b[0m\u001b[1;32m   2898\u001b[0m \u001b[0;34m\u001b[0m\u001b[0m\n\u001b[1;32m   2899\u001b[0m         \u001b[0;32mif\u001b[0m \u001b[0mtolerance\u001b[0m \u001b[0;32mis\u001b[0m \u001b[0;32mnot\u001b[0m \u001b[0;32mNone\u001b[0m\u001b[0;34m:\u001b[0m\u001b[0;34m\u001b[0m\u001b[0;34m\u001b[0m\u001b[0m\n",
      "\u001b[0;31mKeyError\u001b[0m: 1"
     ]
    }
   ],
   "source": [
    "max_min_cnt = decompress_pickle(\"../data/preprocessed/cnt_min_max.pbz2\")\n",
    "max_cnt = max_min_cnt[1]"
   ]
  },
  {
   "cell_type": "code",
   "execution_count": 115,
   "metadata": {},
   "outputs": [],
   "source": [
    "max_cnt = max_min_cnt.iloc[0,0]"
   ]
  },
  {
   "cell_type": "code",
   "execution_count": 117,
   "metadata": {},
   "outputs": [],
   "source": [
    "min_cnt = max_min_cnt.iloc[0,1]"
   ]
  },
  {
   "cell_type": "code",
   "execution_count": 116,
   "metadata": {},
   "outputs": [
    {
     "output_type": "execute_result",
     "data": {
      "text/plain": [
       "977.0"
      ]
     },
     "metadata": {},
     "execution_count": 116
    }
   ],
   "source": [
    "max_cnt"
   ]
  },
  {
   "cell_type": "code",
   "execution_count": 118,
   "metadata": {},
   "outputs": [
    {
     "output_type": "execute_result",
     "data": {
      "text/plain": [
       "1.0"
      ]
     },
     "metadata": {},
     "execution_count": 118
    }
   ],
   "source": [
    "min_cnt"
   ]
  },
  {
   "cell_type": "code",
   "execution_count": 120,
   "metadata": {},
   "outputs": [],
   "source": [
    "norm_prediction_Y = prediction_Y * (max_cnt - min_cnt) + min_cnt"
   ]
  },
  {
   "cell_type": "code",
   "execution_count": 121,
   "metadata": {},
   "outputs": [
    {
     "output_type": "execute_result",
     "data": {
      "text/plain": [
       "             cnt\n",
       "0     245.284745\n",
       "1     247.211443\n",
       "2     248.481130\n",
       "3     251.495380\n",
       "4     252.135258\n",
       "...          ...\n",
       "3504  238.983112\n",
       "3505  241.931987\n",
       "3506  247.643751\n",
       "3507  248.920090\n",
       "3508  250.197686\n",
       "\n",
       "[3509 rows x 1 columns]"
      ],
      "text/html": "<div>\n<style scoped>\n    .dataframe tbody tr th:only-of-type {\n        vertical-align: middle;\n    }\n\n    .dataframe tbody tr th {\n        vertical-align: top;\n    }\n\n    .dataframe thead th {\n        text-align: right;\n    }\n</style>\n<table border=\"1\" class=\"dataframe\">\n  <thead>\n    <tr style=\"text-align: right;\">\n      <th></th>\n      <th>cnt</th>\n    </tr>\n  </thead>\n  <tbody>\n    <tr>\n      <th>0</th>\n      <td>245.284745</td>\n    </tr>\n    <tr>\n      <th>1</th>\n      <td>247.211443</td>\n    </tr>\n    <tr>\n      <th>2</th>\n      <td>248.481130</td>\n    </tr>\n    <tr>\n      <th>3</th>\n      <td>251.495380</td>\n    </tr>\n    <tr>\n      <th>4</th>\n      <td>252.135258</td>\n    </tr>\n    <tr>\n      <th>...</th>\n      <td>...</td>\n    </tr>\n    <tr>\n      <th>3504</th>\n      <td>238.983112</td>\n    </tr>\n    <tr>\n      <th>3505</th>\n      <td>241.931987</td>\n    </tr>\n    <tr>\n      <th>3506</th>\n      <td>247.643751</td>\n    </tr>\n    <tr>\n      <th>3507</th>\n      <td>248.920090</td>\n    </tr>\n    <tr>\n      <th>3508</th>\n      <td>250.197686</td>\n    </tr>\n  </tbody>\n</table>\n<p>3509 rows × 1 columns</p>\n</div>"
     },
     "metadata": {},
     "execution_count": 121
    }
   ],
   "source": [
    "norm_prediction_Y"
   ]
  },
  {
   "cell_type": "code",
   "execution_count": 94,
   "metadata": {},
   "outputs": [
    {
     "output_type": "execute_result",
     "data": {
      "text/plain": [
       "      index  season   yr  mnth  hr  holiday  weekday  workingday  weathersit  \\\n",
       "0     14035     3.0  1.0     8  19      0.0        1         1.0         2.0   \n",
       "1     14036     3.0  1.0     8  20      0.0        1         1.0         2.0   \n",
       "2     14037     3.0  1.0     8  21      0.0        1         1.0         2.0   \n",
       "3     14038     3.0  1.0     8  22      0.0        1         1.0         1.0   \n",
       "4     14039     3.0  1.0     8  23      0.0        1         1.0         1.0   \n",
       "...     ...     ...  ...   ...  ..      ...      ...         ...         ...   \n",
       "3504  17539     1.0  1.0    12  19      0.0        0         1.0         2.0   \n",
       "3505  17540     1.0  1.0    12  20      0.0        0         1.0         2.0   \n",
       "3506  17541     1.0  1.0    12  21      0.0        0         1.0         1.0   \n",
       "3507  17542     1.0  1.0    12  22      0.0        0         1.0         1.0   \n",
       "3508  17543     1.0  1.0    12  23      0.0        0         1.0         1.0   \n",
       "\n",
       "          temp   hum  windspeed  \n",
       "0     0.755102  0.66   0.122840  \n",
       "1     0.734694  0.70   0.157870  \n",
       "2     0.714286  0.74   0.000000  \n",
       "3     0.714286  0.74   0.122840  \n",
       "4     0.714286  0.79   0.000000  \n",
       "...        ...   ...        ...  \n",
       "3504  0.244898  0.60   0.193018  \n",
       "3505  0.244898  0.60   0.193018  \n",
       "3506  0.244898  0.60   0.193018  \n",
       "3507  0.244898  0.56   0.157870  \n",
       "3508  0.244898  0.65   0.157870  \n",
       "\n",
       "[3509 rows x 12 columns]"
      ],
      "text/html": "<div>\n<style scoped>\n    .dataframe tbody tr th:only-of-type {\n        vertical-align: middle;\n    }\n\n    .dataframe tbody tr th {\n        vertical-align: top;\n    }\n\n    .dataframe thead th {\n        text-align: right;\n    }\n</style>\n<table border=\"1\" class=\"dataframe\">\n  <thead>\n    <tr style=\"text-align: right;\">\n      <th></th>\n      <th>index</th>\n      <th>season</th>\n      <th>yr</th>\n      <th>mnth</th>\n      <th>hr</th>\n      <th>holiday</th>\n      <th>weekday</th>\n      <th>workingday</th>\n      <th>weathersit</th>\n      <th>temp</th>\n      <th>hum</th>\n      <th>windspeed</th>\n    </tr>\n  </thead>\n  <tbody>\n    <tr>\n      <th>0</th>\n      <td>14035</td>\n      <td>3.0</td>\n      <td>1.0</td>\n      <td>8</td>\n      <td>19</td>\n      <td>0.0</td>\n      <td>1</td>\n      <td>1.0</td>\n      <td>2.0</td>\n      <td>0.755102</td>\n      <td>0.66</td>\n      <td>0.122840</td>\n    </tr>\n    <tr>\n      <th>1</th>\n      <td>14036</td>\n      <td>3.0</td>\n      <td>1.0</td>\n      <td>8</td>\n      <td>20</td>\n      <td>0.0</td>\n      <td>1</td>\n      <td>1.0</td>\n      <td>2.0</td>\n      <td>0.734694</td>\n      <td>0.70</td>\n      <td>0.157870</td>\n    </tr>\n    <tr>\n      <th>2</th>\n      <td>14037</td>\n      <td>3.0</td>\n      <td>1.0</td>\n      <td>8</td>\n      <td>21</td>\n      <td>0.0</td>\n      <td>1</td>\n      <td>1.0</td>\n      <td>2.0</td>\n      <td>0.714286</td>\n      <td>0.74</td>\n      <td>0.000000</td>\n    </tr>\n    <tr>\n      <th>3</th>\n      <td>14038</td>\n      <td>3.0</td>\n      <td>1.0</td>\n      <td>8</td>\n      <td>22</td>\n      <td>0.0</td>\n      <td>1</td>\n      <td>1.0</td>\n      <td>1.0</td>\n      <td>0.714286</td>\n      <td>0.74</td>\n      <td>0.122840</td>\n    </tr>\n    <tr>\n      <th>4</th>\n      <td>14039</td>\n      <td>3.0</td>\n      <td>1.0</td>\n      <td>8</td>\n      <td>23</td>\n      <td>0.0</td>\n      <td>1</td>\n      <td>1.0</td>\n      <td>1.0</td>\n      <td>0.714286</td>\n      <td>0.79</td>\n      <td>0.000000</td>\n    </tr>\n    <tr>\n      <th>...</th>\n      <td>...</td>\n      <td>...</td>\n      <td>...</td>\n      <td>...</td>\n      <td>...</td>\n      <td>...</td>\n      <td>...</td>\n      <td>...</td>\n      <td>...</td>\n      <td>...</td>\n      <td>...</td>\n      <td>...</td>\n    </tr>\n    <tr>\n      <th>3504</th>\n      <td>17539</td>\n      <td>1.0</td>\n      <td>1.0</td>\n      <td>12</td>\n      <td>19</td>\n      <td>0.0</td>\n      <td>0</td>\n      <td>1.0</td>\n      <td>2.0</td>\n      <td>0.244898</td>\n      <td>0.60</td>\n      <td>0.193018</td>\n    </tr>\n    <tr>\n      <th>3505</th>\n      <td>17540</td>\n      <td>1.0</td>\n      <td>1.0</td>\n      <td>12</td>\n      <td>20</td>\n      <td>0.0</td>\n      <td>0</td>\n      <td>1.0</td>\n      <td>2.0</td>\n      <td>0.244898</td>\n      <td>0.60</td>\n      <td>0.193018</td>\n    </tr>\n    <tr>\n      <th>3506</th>\n      <td>17541</td>\n      <td>1.0</td>\n      <td>1.0</td>\n      <td>12</td>\n      <td>21</td>\n      <td>0.0</td>\n      <td>0</td>\n      <td>1.0</td>\n      <td>1.0</td>\n      <td>0.244898</td>\n      <td>0.60</td>\n      <td>0.193018</td>\n    </tr>\n    <tr>\n      <th>3507</th>\n      <td>17542</td>\n      <td>1.0</td>\n      <td>1.0</td>\n      <td>12</td>\n      <td>22</td>\n      <td>0.0</td>\n      <td>0</td>\n      <td>1.0</td>\n      <td>1.0</td>\n      <td>0.244898</td>\n      <td>0.56</td>\n      <td>0.157870</td>\n    </tr>\n    <tr>\n      <th>3508</th>\n      <td>17543</td>\n      <td>1.0</td>\n      <td>1.0</td>\n      <td>12</td>\n      <td>23</td>\n      <td>0.0</td>\n      <td>0</td>\n      <td>1.0</td>\n      <td>1.0</td>\n      <td>0.244898</td>\n      <td>0.65</td>\n      <td>0.157870</td>\n    </tr>\n  </tbody>\n</table>\n<p>3509 rows × 12 columns</p>\n</div>"
     },
     "metadata": {},
     "execution_count": 94
    }
   ],
   "source": [
    "prediction_X = pd.DataFrame.reset_index(X_test)\n",
    "prediction_X"
   ]
  },
  {
   "cell_type": "code",
   "execution_count": 122,
   "metadata": {},
   "outputs": [],
   "source": [
    "result_df = pd.concat([prediction_X, norm_prediction_Y], axis=1)\n"
   ]
  },
  {
   "cell_type": "code",
   "execution_count": 123,
   "metadata": {},
   "outputs": [
    {
     "output_type": "execute_result",
     "data": {
      "text/plain": [
       "      index  season   yr  mnth  hr  holiday  weekday  workingday  weathersit  \\\n",
       "0     14035     3.0  1.0     8  19      0.0        1         1.0         2.0   \n",
       "1     14036     3.0  1.0     8  20      0.0        1         1.0         2.0   \n",
       "2     14037     3.0  1.0     8  21      0.0        1         1.0         2.0   \n",
       "3     14038     3.0  1.0     8  22      0.0        1         1.0         1.0   \n",
       "4     14039     3.0  1.0     8  23      0.0        1         1.0         1.0   \n",
       "...     ...     ...  ...   ...  ..      ...      ...         ...         ...   \n",
       "3504  17539     1.0  1.0    12  19      0.0        0         1.0         2.0   \n",
       "3505  17540     1.0  1.0    12  20      0.0        0         1.0         2.0   \n",
       "3506  17541     1.0  1.0    12  21      0.0        0         1.0         1.0   \n",
       "3507  17542     1.0  1.0    12  22      0.0        0         1.0         1.0   \n",
       "3508  17543     1.0  1.0    12  23      0.0        0         1.0         1.0   \n",
       "\n",
       "          temp   hum  windspeed         cnt  \n",
       "0     0.755102  0.66   0.122840  245.284745  \n",
       "1     0.734694  0.70   0.157870  247.211443  \n",
       "2     0.714286  0.74   0.000000  248.481130  \n",
       "3     0.714286  0.74   0.122840  251.495380  \n",
       "4     0.714286  0.79   0.000000  252.135258  \n",
       "...        ...   ...        ...         ...  \n",
       "3504  0.244898  0.60   0.193018  238.983112  \n",
       "3505  0.244898  0.60   0.193018  241.931987  \n",
       "3506  0.244898  0.60   0.193018  247.643751  \n",
       "3507  0.244898  0.56   0.157870  248.920090  \n",
       "3508  0.244898  0.65   0.157870  250.197686  \n",
       "\n",
       "[3509 rows x 13 columns]"
      ],
      "text/html": "<div>\n<style scoped>\n    .dataframe tbody tr th:only-of-type {\n        vertical-align: middle;\n    }\n\n    .dataframe tbody tr th {\n        vertical-align: top;\n    }\n\n    .dataframe thead th {\n        text-align: right;\n    }\n</style>\n<table border=\"1\" class=\"dataframe\">\n  <thead>\n    <tr style=\"text-align: right;\">\n      <th></th>\n      <th>index</th>\n      <th>season</th>\n      <th>yr</th>\n      <th>mnth</th>\n      <th>hr</th>\n      <th>holiday</th>\n      <th>weekday</th>\n      <th>workingday</th>\n      <th>weathersit</th>\n      <th>temp</th>\n      <th>hum</th>\n      <th>windspeed</th>\n      <th>cnt</th>\n    </tr>\n  </thead>\n  <tbody>\n    <tr>\n      <th>0</th>\n      <td>14035</td>\n      <td>3.0</td>\n      <td>1.0</td>\n      <td>8</td>\n      <td>19</td>\n      <td>0.0</td>\n      <td>1</td>\n      <td>1.0</td>\n      <td>2.0</td>\n      <td>0.755102</td>\n      <td>0.66</td>\n      <td>0.122840</td>\n      <td>245.284745</td>\n    </tr>\n    <tr>\n      <th>1</th>\n      <td>14036</td>\n      <td>3.0</td>\n      <td>1.0</td>\n      <td>8</td>\n      <td>20</td>\n      <td>0.0</td>\n      <td>1</td>\n      <td>1.0</td>\n      <td>2.0</td>\n      <td>0.734694</td>\n      <td>0.70</td>\n      <td>0.157870</td>\n      <td>247.211443</td>\n    </tr>\n    <tr>\n      <th>2</th>\n      <td>14037</td>\n      <td>3.0</td>\n      <td>1.0</td>\n      <td>8</td>\n      <td>21</td>\n      <td>0.0</td>\n      <td>1</td>\n      <td>1.0</td>\n      <td>2.0</td>\n      <td>0.714286</td>\n      <td>0.74</td>\n      <td>0.000000</td>\n      <td>248.481130</td>\n    </tr>\n    <tr>\n      <th>3</th>\n      <td>14038</td>\n      <td>3.0</td>\n      <td>1.0</td>\n      <td>8</td>\n      <td>22</td>\n      <td>0.0</td>\n      <td>1</td>\n      <td>1.0</td>\n      <td>1.0</td>\n      <td>0.714286</td>\n      <td>0.74</td>\n      <td>0.122840</td>\n      <td>251.495380</td>\n    </tr>\n    <tr>\n      <th>4</th>\n      <td>14039</td>\n      <td>3.0</td>\n      <td>1.0</td>\n      <td>8</td>\n      <td>23</td>\n      <td>0.0</td>\n      <td>1</td>\n      <td>1.0</td>\n      <td>1.0</td>\n      <td>0.714286</td>\n      <td>0.79</td>\n      <td>0.000000</td>\n      <td>252.135258</td>\n    </tr>\n    <tr>\n      <th>...</th>\n      <td>...</td>\n      <td>...</td>\n      <td>...</td>\n      <td>...</td>\n      <td>...</td>\n      <td>...</td>\n      <td>...</td>\n      <td>...</td>\n      <td>...</td>\n      <td>...</td>\n      <td>...</td>\n      <td>...</td>\n      <td>...</td>\n    </tr>\n    <tr>\n      <th>3504</th>\n      <td>17539</td>\n      <td>1.0</td>\n      <td>1.0</td>\n      <td>12</td>\n      <td>19</td>\n      <td>0.0</td>\n      <td>0</td>\n      <td>1.0</td>\n      <td>2.0</td>\n      <td>0.244898</td>\n      <td>0.60</td>\n      <td>0.193018</td>\n      <td>238.983112</td>\n    </tr>\n    <tr>\n      <th>3505</th>\n      <td>17540</td>\n      <td>1.0</td>\n      <td>1.0</td>\n      <td>12</td>\n      <td>20</td>\n      <td>0.0</td>\n      <td>0</td>\n      <td>1.0</td>\n      <td>2.0</td>\n      <td>0.244898</td>\n      <td>0.60</td>\n      <td>0.193018</td>\n      <td>241.931987</td>\n    </tr>\n    <tr>\n      <th>3506</th>\n      <td>17541</td>\n      <td>1.0</td>\n      <td>1.0</td>\n      <td>12</td>\n      <td>21</td>\n      <td>0.0</td>\n      <td>0</td>\n      <td>1.0</td>\n      <td>1.0</td>\n      <td>0.244898</td>\n      <td>0.60</td>\n      <td>0.193018</td>\n      <td>247.643751</td>\n    </tr>\n    <tr>\n      <th>3507</th>\n      <td>17542</td>\n      <td>1.0</td>\n      <td>1.0</td>\n      <td>12</td>\n      <td>22</td>\n      <td>0.0</td>\n      <td>0</td>\n      <td>1.0</td>\n      <td>1.0</td>\n      <td>0.244898</td>\n      <td>0.56</td>\n      <td>0.157870</td>\n      <td>248.920090</td>\n    </tr>\n    <tr>\n      <th>3508</th>\n      <td>17543</td>\n      <td>1.0</td>\n      <td>1.0</td>\n      <td>12</td>\n      <td>23</td>\n      <td>0.0</td>\n      <td>0</td>\n      <td>1.0</td>\n      <td>1.0</td>\n      <td>0.244898</td>\n      <td>0.65</td>\n      <td>0.157870</td>\n      <td>250.197686</td>\n    </tr>\n  </tbody>\n</table>\n<p>3509 rows × 13 columns</p>\n</div>"
     },
     "metadata": {},
     "execution_count": 123
    }
   ],
   "source": [
    "result_df"
   ]
  },
  {
   "cell_type": "code",
   "execution_count": null,
   "metadata": {},
   "outputs": [],
   "source": []
  },
  {
   "cell_type": "code",
   "execution_count": null,
   "metadata": {},
   "outputs": [],
   "source": [
    "# de-normalize"
   ]
  },
  {
   "cell_type": "code",
   "execution_count": null,
   "metadata": {},
   "outputs": [],
   "source": [
    "# save dataframe"
   ]
  },
  {
   "cell_type": "code",
   "execution_count": null,
   "metadata": {},
   "outputs": [],
   "source": [
    "# save model"
   ]
  },
  {
   "cell_type": "code",
   "execution_count": 32,
   "metadata": {},
   "outputs": [],
   "source": [
    "import os"
   ]
  },
  {
   "cell_type": "code",
   "execution_count": 35,
   "metadata": {},
   "outputs": [],
   "source": [
    "os.mkdir(\"../python/NN_MLP_files\")"
   ]
  },
  {
   "cell_type": "code",
   "execution_count": 36,
   "metadata": {},
   "outputs": [],
   "source": [
    "pickle.dump(NN_regr_CV, open(\"../python/NN_MLP_files/NN_MLP_saved\", \"wb\"))"
   ]
  },
  {
   "cell_type": "code",
   "execution_count": 68,
   "metadata": {},
   "outputs": [],
   "source": [
    "# load model\n",
    "test_load = pickle.load(open(\"NN_MLP_saved\", \"rb\"))"
   ]
  },
  {
   "cell_type": "code",
   "execution_count": 70,
   "metadata": {},
   "outputs": [
    {
     "output_type": "execute_result",
     "data": {
      "text/plain": [
       "MLPRegressor(activation='tanh', alpha=0.1, hidden_layer_sizes=(10,),\n",
       "             max_iter=10000, random_state=0, solver='lbfgs')"
      ]
     },
     "metadata": {},
     "execution_count": 70
    }
   ],
   "source": [
    "test_load"
   ]
  },
  {
   "cell_type": "code",
   "execution_count": 71,
   "metadata": {},
   "outputs": [],
   "source": [
    "tryout_predicting = test_load.predict(X_test)"
   ]
  },
  {
   "cell_type": "code",
   "execution_count": 72,
   "metadata": {},
   "outputs": [
    {
     "output_type": "execute_result",
     "data": {
      "text/plain": [
       "array([ 0.56395187,  0.38366951,  0.28715363, ...,  0.07505116,\n",
       "        0.03568653, -0.0189239 ])"
      ]
     },
     "metadata": {},
     "execution_count": 72
    }
   ],
   "source": [
    "tryout_predicting"
   ]
  },
  {
   "cell_type": "code",
   "execution_count": 74,
   "metadata": {},
   "outputs": [
    {
     "output_type": "execute_result",
     "data": {
      "text/plain": [
       "{'activation': 'tanh',\n",
       " 'alpha': 0.1,\n",
       " 'hidden_layer_sizes': (10,),\n",
       " 'learning_rate': 'constant'}"
      ]
     },
     "metadata": {},
     "execution_count": 74
    }
   ],
   "source": [
    "NN_regr_CV_model.best_params_"
   ]
  },
  {
   "cell_type": "code",
   "execution_count": 127,
   "metadata": {},
   "outputs": [],
   "source": [
    "test = decompress_pickle(\"../python/NN_MLP_files/optimal_parameters.pbz2\")\n"
   ]
  },
  {
   "cell_type": "code",
   "execution_count": 128,
   "metadata": {},
   "outputs": [
    {
     "output_type": "execute_result",
     "data": {
      "text/plain": [
       "  activation  alpha  hidden_layer_sizes\n",
       "0       tanh    0.1                  10"
      ],
      "text/html": "<div>\n<style scoped>\n    .dataframe tbody tr th:only-of-type {\n        vertical-align: middle;\n    }\n\n    .dataframe tbody tr th {\n        vertical-align: top;\n    }\n\n    .dataframe thead th {\n        text-align: right;\n    }\n</style>\n<table border=\"1\" class=\"dataframe\">\n  <thead>\n    <tr style=\"text-align: right;\">\n      <th></th>\n      <th>activation</th>\n      <th>alpha</th>\n      <th>hidden_layer_sizes</th>\n    </tr>\n  </thead>\n  <tbody>\n    <tr>\n      <th>0</th>\n      <td>tanh</td>\n      <td>0.1</td>\n      <td>10</td>\n    </tr>\n  </tbody>\n</table>\n</div>"
     },
     "metadata": {},
     "execution_count": 128
    }
   ],
   "source": [
    "test"
   ]
  },
  {
   "cell_type": "code",
   "execution_count": null,
   "metadata": {},
   "outputs": [],
   "source": []
  }
 ]
}