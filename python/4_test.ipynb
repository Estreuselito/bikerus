{
 "metadata": {
  "language_info": {
   "codemirror_mode": {
    "name": "ipython",
    "version": 3
   },
   "file_extension": ".py",
   "mimetype": "text/x-python",
   "name": "python",
   "nbconvert_exporter": "python",
   "pygments_lexer": "ipython3",
   "version": "3.8.6-final"
  },
  "orig_nbformat": 2,
  "kernelspec": {
   "name": "python3",
   "display_name": "Python 3"
  }
 },
 "nbformat": 4,
 "nbformat_minor": 2,
 "cells": [
  {
   "cell_type": "code",
   "execution_count": 30,
   "metadata": {},
   "outputs": [
    {
     "output_type": "execute_result",
     "data": {
      "text/plain": [
       "SVR(C=1.75, epsilon=0.01, gamma=1.0, max_iter=25000)"
      ]
     },
     "metadata": {},
     "execution_count": 30
    }
   ],
   "source": [
    "filename = \"Model_SVR_rs_gridcv.sav\"\n",
    "SVR_regr_CV_model = joblib.load(\n",
    "    \"../models/SVR_files/\" + str(filename))\n",
    "SVR_regr_CV_model"
   ]
  },
  {
   "cell_type": "code",
   "execution_count": 31,
   "metadata": {},
   "outputs": [
    {
     "output_type": "execute_result",
     "data": {
      "text/plain": [
       "SVR(C=0.5, epsilon=0.03, gamma=0.6, max_iter=25000)"
      ]
     },
     "metadata": {},
     "execution_count": 31
    }
   ],
   "source": [
    "filename = \"Model_SVR_ts_gridcv.sav\"\n",
    "SVR_regr_CV_model = joblib.load(\n",
    "    \"../models/SVR_files/\" + str(filename))\n",
    "SVR_regr_CV_model"
   ]
  },
  {
   "cell_type": "code",
   "execution_count": 32,
   "metadata": {},
   "outputs": [
    {
     "output_type": "execute_result",
     "data": {
      "text/plain": [
       "SVR(C=0.5, epsilon=0.03, gamma=0.5, max_iter=25000)"
      ]
     },
     "metadata": {},
     "execution_count": 32
    }
   ],
   "source": [
    "filename = \"Model_SVR_ts_tscv.sav\"\n",
    "SVR_regr_CV_model = joblib.load(\n",
    "    \"../models/SVR_files/\" + str(filename))\n",
    "SVR_regr_CV_model"
   ]
  },
  {
   "cell_type": "code",
   "execution_count": null,
   "metadata": {},
   "outputs": [],
   "source": []
  }
 ]
}