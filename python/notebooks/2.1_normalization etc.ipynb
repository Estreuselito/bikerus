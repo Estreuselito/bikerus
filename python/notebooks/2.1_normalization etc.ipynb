{
 "metadata": {
  "language_info": {
   "codemirror_mode": {
    "name": "ipython",
    "version": 3
   },
   "file_extension": ".py",
   "mimetype": "text/x-python",
   "name": "python",
   "nbconvert_exporter": "python",
   "pygments_lexer": "ipython3",
   "version": "3.8.6-final"
  },
  "orig_nbformat": 2,
  "kernelspec": {
   "name": "python3",
   "display_name": "Python 3"
  }
 },
 "nbformat": 4,
 "nbformat_minor": 2,
 "cells": [
  {
   "cell_type": "code",
   "execution_count": 24,
   "metadata": {},
   "outputs": [],
   "source": [
    "from data_preprocessing import decompress_pickle, compressed_pickle\n",
    "import pandas as pd\n",
    "from sklearn import preprocessing"
   ]
  },
  {
   "cell_type": "code",
   "execution_count": 34,
   "metadata": {},
   "outputs": [],
   "source": [
    "df = decompress_pickle(\"../data/preprocessed/BikeRental_complete.pbz2\")"
   ]
  },
  {
   "cell_type": "code",
   "execution_count": 35,
   "metadata": {},
   "outputs": [
    {
     "output_type": "execute_result",
     "data": {
      "text/plain": [
       "             datetime      dteday  season   yr  mnth  hr  holiday  weekday  \\\n",
       "0 2011-01-01 00:00:00  2011-01-01     1.0  0.0     1   0      0.0        5   \n",
       "1 2011-01-01 01:00:00  2011-01-01     1.0  0.0     1   1      0.0        5   \n",
       "2 2011-01-01 02:00:00  2011-01-01     1.0  0.0     1   2      0.0        5   \n",
       "3 2011-01-01 03:00:00  2011-01-01     1.0  0.0     1   3      0.0        5   \n",
       "4 2011-01-01 04:00:00  2011-01-01     1.0  0.0     1   4      0.0        5   \n",
       "\n",
       "   workingday  weathersit  temp   atemp   hum  windspeed  casual  registered  \\\n",
       "0         0.0         1.0  0.24  0.2879  0.81        0.0     3.0        13.0   \n",
       "1         0.0         1.0  0.22  0.2727  0.80        0.0     8.0        32.0   \n",
       "2         0.0         1.0  0.22  0.2727  0.80        0.0     5.0        27.0   \n",
       "3         0.0         1.0  0.24  0.2879  0.75        0.0     3.0        10.0   \n",
       "4         0.0         1.0  0.24  0.2879  0.75        0.0     0.0         1.0   \n",
       "\n",
       "    cnt  \n",
       "0  16.0  \n",
       "1  40.0  \n",
       "2  32.0  \n",
       "3  13.0  \n",
       "4   1.0  "
      ],
      "text/html": "<div>\n<style scoped>\n    .dataframe tbody tr th:only-of-type {\n        vertical-align: middle;\n    }\n\n    .dataframe tbody tr th {\n        vertical-align: top;\n    }\n\n    .dataframe thead th {\n        text-align: right;\n    }\n</style>\n<table border=\"1\" class=\"dataframe\">\n  <thead>\n    <tr style=\"text-align: right;\">\n      <th></th>\n      <th>datetime</th>\n      <th>dteday</th>\n      <th>season</th>\n      <th>yr</th>\n      <th>mnth</th>\n      <th>hr</th>\n      <th>holiday</th>\n      <th>weekday</th>\n      <th>workingday</th>\n      <th>weathersit</th>\n      <th>temp</th>\n      <th>atemp</th>\n      <th>hum</th>\n      <th>windspeed</th>\n      <th>casual</th>\n      <th>registered</th>\n      <th>cnt</th>\n    </tr>\n  </thead>\n  <tbody>\n    <tr>\n      <th>0</th>\n      <td>2011-01-01 00:00:00</td>\n      <td>2011-01-01</td>\n      <td>1.0</td>\n      <td>0.0</td>\n      <td>1</td>\n      <td>0</td>\n      <td>0.0</td>\n      <td>5</td>\n      <td>0.0</td>\n      <td>1.0</td>\n      <td>0.24</td>\n      <td>0.2879</td>\n      <td>0.81</td>\n      <td>0.0</td>\n      <td>3.0</td>\n      <td>13.0</td>\n      <td>16.0</td>\n    </tr>\n    <tr>\n      <th>1</th>\n      <td>2011-01-01 01:00:00</td>\n      <td>2011-01-01</td>\n      <td>1.0</td>\n      <td>0.0</td>\n      <td>1</td>\n      <td>1</td>\n      <td>0.0</td>\n      <td>5</td>\n      <td>0.0</td>\n      <td>1.0</td>\n      <td>0.22</td>\n      <td>0.2727</td>\n      <td>0.80</td>\n      <td>0.0</td>\n      <td>8.0</td>\n      <td>32.0</td>\n      <td>40.0</td>\n    </tr>\n    <tr>\n      <th>2</th>\n      <td>2011-01-01 02:00:00</td>\n      <td>2011-01-01</td>\n      <td>1.0</td>\n      <td>0.0</td>\n      <td>1</td>\n      <td>2</td>\n      <td>0.0</td>\n      <td>5</td>\n      <td>0.0</td>\n      <td>1.0</td>\n      <td>0.22</td>\n      <td>0.2727</td>\n      <td>0.80</td>\n      <td>0.0</td>\n      <td>5.0</td>\n      <td>27.0</td>\n      <td>32.0</td>\n    </tr>\n    <tr>\n      <th>3</th>\n      <td>2011-01-01 03:00:00</td>\n      <td>2011-01-01</td>\n      <td>1.0</td>\n      <td>0.0</td>\n      <td>1</td>\n      <td>3</td>\n      <td>0.0</td>\n      <td>5</td>\n      <td>0.0</td>\n      <td>1.0</td>\n      <td>0.24</td>\n      <td>0.2879</td>\n      <td>0.75</td>\n      <td>0.0</td>\n      <td>3.0</td>\n      <td>10.0</td>\n      <td>13.0</td>\n    </tr>\n    <tr>\n      <th>4</th>\n      <td>2011-01-01 04:00:00</td>\n      <td>2011-01-01</td>\n      <td>1.0</td>\n      <td>0.0</td>\n      <td>1</td>\n      <td>4</td>\n      <td>0.0</td>\n      <td>5</td>\n      <td>0.0</td>\n      <td>1.0</td>\n      <td>0.24</td>\n      <td>0.2879</td>\n      <td>0.75</td>\n      <td>0.0</td>\n      <td>0.0</td>\n      <td>1.0</td>\n      <td>1.0</td>\n    </tr>\n  </tbody>\n</table>\n</div>"
     },
     "metadata": {},
     "execution_count": 35
    }
   ],
   "source": [
    "df.head()"
   ]
  },
  {
   "source": [
    "### drop leakage variables"
   ],
   "cell_type": "markdown",
   "metadata": {}
  },
  {
   "cell_type": "code",
   "execution_count": 36,
   "metadata": {},
   "outputs": [],
   "source": [
    "leak_var = [\"casual\", \"registered\"]\n",
    "df = df.drop(leak_var, axis=1)"
   ]
  },
  {
   "cell_type": "code",
   "execution_count": 37,
   "metadata": {},
   "outputs": [
    {
     "output_type": "execute_result",
     "data": {
      "text/plain": [
       "Index(['datetime', 'dteday', 'season', 'yr', 'mnth', 'hr', 'holiday',\n",
       "       'weekday', 'workingday', 'weathersit', 'temp', 'atemp', 'hum',\n",
       "       'windspeed', 'cnt'],\n",
       "      dtype='object')"
      ]
     },
     "metadata": {},
     "execution_count": 37
    }
   ],
   "source": [
    "df.columns"
   ]
  },
  {
   "source": [
    "### drop highly correlated variables (temp and atemp have Pearson correlation of 0.99)"
   ],
   "cell_type": "markdown",
   "metadata": {}
  },
  {
   "cell_type": "code",
   "execution_count": 10,
   "metadata": {},
   "outputs": [],
   "source": [
    "high_corr_var = [\"atemp\"]\n",
    "df = df.drop(high_corr_var, axis=1)"
   ]
  },
  {
   "source": [
    "### drop redundant dteday variable"
   ],
   "cell_type": "markdown",
   "metadata": {}
  },
  {
   "cell_type": "code",
   "execution_count": 11,
   "metadata": {},
   "outputs": [],
   "source": [
    "red_var = [\"dteday\"]\n",
    "df = df.drop(red_var, axis=1)"
   ]
  },
  {
   "cell_type": "code",
   "execution_count": 12,
   "metadata": {},
   "outputs": [
    {
     "output_type": "execute_result",
     "data": {
      "text/plain": [
       "datetime      datetime64[ns]\n",
       "season               float64\n",
       "yr                   float64\n",
       "mnth                   int64\n",
       "hr                     int64\n",
       "holiday              float64\n",
       "weekday                int64\n",
       "workingday           float64\n",
       "weathersit           float64\n",
       "temp                 float64\n",
       "hum                  float64\n",
       "windspeed            float64\n",
       "cnt                  float64\n",
       "dtype: object"
      ]
     },
     "metadata": {},
     "execution_count": 12
    }
   ],
   "source": [
    "df.dtypes"
   ]
  },
  {
   "source": [
    "### coerce correct data types"
   ],
   "cell_type": "markdown",
   "metadata": {}
  },
  {
   "cell_type": "code",
   "execution_count": 13,
   "metadata": {},
   "outputs": [],
   "source": [
    "cat_var = [\"season\", \"yr\", \"mnth\", \"hr\", \"holiday\", \"weekday\", \"workingday\", \"weathersit\"]\n",
    "\n",
    "for v in cat_var:\n",
    "    df[v] = df[v].astype(\"category\")"
   ]
  },
  {
   "cell_type": "code",
   "execution_count": 14,
   "metadata": {},
   "outputs": [
    {
     "output_type": "execute_result",
     "data": {
      "text/plain": [
       "datetime      datetime64[ns]\n",
       "season              category\n",
       "yr                  category\n",
       "mnth                category\n",
       "hr                  category\n",
       "holiday             category\n",
       "weekday             category\n",
       "workingday          category\n",
       "weathersit          category\n",
       "temp                 float64\n",
       "hum                  float64\n",
       "windspeed            float64\n",
       "cnt                  float64\n",
       "dtype: object"
      ]
     },
     "metadata": {},
     "execution_count": 14
    }
   ],
   "source": [
    "df.dtypes"
   ]
  },
  {
   "source": [
    "### normalize continous variables"
   ],
   "cell_type": "markdown",
   "metadata": {}
  },
  {
   "cell_type": "code",
   "execution_count": 15,
   "metadata": {},
   "outputs": [],
   "source": [
    "cont_var = [\"temp\", \"windspeed\", \"cnt\"]"
   ]
  },
  {
   "cell_type": "code",
   "execution_count": 19,
   "metadata": {},
   "outputs": [
    {
     "output_type": "execute_result",
     "data": {
      "text/plain": [
       "temp         0.02\n",
       "windspeed    0.00\n",
       "cnt          1.00\n",
       "dtype: float64"
      ]
     },
     "metadata": {},
     "execution_count": 19
    }
   ],
   "source": [
    "df[cont_var].min()"
   ]
  },
  {
   "cell_type": "code",
   "execution_count": 18,
   "metadata": {},
   "outputs": [
    {
     "output_type": "execute_result",
     "data": {
      "text/plain": [
       "temp           1.0000\n",
       "windspeed      0.8507\n",
       "cnt          977.0000\n",
       "dtype: float64"
      ]
     },
     "metadata": {},
     "execution_count": 18
    }
   ],
   "source": [
    "df[cont_var].max()"
   ]
  },
  {
   "cell_type": "code",
   "execution_count": 22,
   "metadata": {},
   "outputs": [],
   "source": [
    "# store cnt max mins\n",
    "count_var = [\"cnt\"]\n",
    "max_count = pd.DataFrame(df[count_var].max())\n",
    "min_count = pd.DataFrame(df[count_var].min())\n",
    "max_min_count = pd.concat([max_count, min_count], axis=1)\n",
    "max_min_count.columns = [\"max\", \"min\"]"
   ]
  },
  {
   "cell_type": "code",
   "execution_count": 28,
   "metadata": {},
   "outputs": [],
   "source": [
    "mm_scaler = preprocessing.MinMaxScaler()\n",
    "df[cont_var] = mm_scaler.fit_transform(df[cont_var])"
   ]
  },
  {
   "cell_type": "code",
   "execution_count": 30,
   "metadata": {},
   "outputs": [
    {
     "output_type": "execute_result",
     "data": {
      "text/plain": [
       "temp         0.0\n",
       "windspeed    0.0\n",
       "cnt          0.0\n",
       "dtype: float64"
      ]
     },
     "metadata": {},
     "execution_count": 30
    }
   ],
   "source": [
    "df[cont_var].min()"
   ]
  },
  {
   "cell_type": "code",
   "execution_count": 31,
   "metadata": {},
   "outputs": [
    {
     "output_type": "execute_result",
     "data": {
      "text/plain": [
       "temp         1.0\n",
       "windspeed    1.0\n",
       "cnt          1.0\n",
       "dtype: float64"
      ]
     },
     "metadata": {},
     "execution_count": 31
    }
   ],
   "source": [
    "df[cont_var].max()"
   ]
  },
  {
   "cell_type": "code",
   "execution_count": null,
   "metadata": {},
   "outputs": [],
   "source": []
  },
  {
   "cell_type": "code",
   "execution_count": 32,
   "metadata": {},
   "outputs": [
    {
     "output_type": "execute_result",
     "data": {
      "text/plain": [
       "             datetime season   yr mnth hr holiday weekday workingday  \\\n",
       "0 2011-01-01 00:00:00    1.0  0.0    1  0     0.0       5        0.0   \n",
       "1 2011-01-01 01:00:00    1.0  0.0    1  1     0.0       5        0.0   \n",
       "2 2011-01-01 02:00:00    1.0  0.0    1  2     0.0       5        0.0   \n",
       "3 2011-01-01 03:00:00    1.0  0.0    1  3     0.0       5        0.0   \n",
       "4 2011-01-01 04:00:00    1.0  0.0    1  4     0.0       5        0.0   \n",
       "\n",
       "  weathersit      temp   hum  windspeed       cnt  \n",
       "0        1.0  0.224490  0.81        0.0  0.015369  \n",
       "1        1.0  0.204082  0.80        0.0  0.039959  \n",
       "2        1.0  0.204082  0.80        0.0  0.031762  \n",
       "3        1.0  0.224490  0.75        0.0  0.012295  \n",
       "4        1.0  0.224490  0.75        0.0  0.000000  "
      ],
      "text/html": "<div>\n<style scoped>\n    .dataframe tbody tr th:only-of-type {\n        vertical-align: middle;\n    }\n\n    .dataframe tbody tr th {\n        vertical-align: top;\n    }\n\n    .dataframe thead th {\n        text-align: right;\n    }\n</style>\n<table border=\"1\" class=\"dataframe\">\n  <thead>\n    <tr style=\"text-align: right;\">\n      <th></th>\n      <th>datetime</th>\n      <th>season</th>\n      <th>yr</th>\n      <th>mnth</th>\n      <th>hr</th>\n      <th>holiday</th>\n      <th>weekday</th>\n      <th>workingday</th>\n      <th>weathersit</th>\n      <th>temp</th>\n      <th>hum</th>\n      <th>windspeed</th>\n      <th>cnt</th>\n    </tr>\n  </thead>\n  <tbody>\n    <tr>\n      <th>0</th>\n      <td>2011-01-01 00:00:00</td>\n      <td>1.0</td>\n      <td>0.0</td>\n      <td>1</td>\n      <td>0</td>\n      <td>0.0</td>\n      <td>5</td>\n      <td>0.0</td>\n      <td>1.0</td>\n      <td>0.224490</td>\n      <td>0.81</td>\n      <td>0.0</td>\n      <td>0.015369</td>\n    </tr>\n    <tr>\n      <th>1</th>\n      <td>2011-01-01 01:00:00</td>\n      <td>1.0</td>\n      <td>0.0</td>\n      <td>1</td>\n      <td>1</td>\n      <td>0.0</td>\n      <td>5</td>\n      <td>0.0</td>\n      <td>1.0</td>\n      <td>0.204082</td>\n      <td>0.80</td>\n      <td>0.0</td>\n      <td>0.039959</td>\n    </tr>\n    <tr>\n      <th>2</th>\n      <td>2011-01-01 02:00:00</td>\n      <td>1.0</td>\n      <td>0.0</td>\n      <td>1</td>\n      <td>2</td>\n      <td>0.0</td>\n      <td>5</td>\n      <td>0.0</td>\n      <td>1.0</td>\n      <td>0.204082</td>\n      <td>0.80</td>\n      <td>0.0</td>\n      <td>0.031762</td>\n    </tr>\n    <tr>\n      <th>3</th>\n      <td>2011-01-01 03:00:00</td>\n      <td>1.0</td>\n      <td>0.0</td>\n      <td>1</td>\n      <td>3</td>\n      <td>0.0</td>\n      <td>5</td>\n      <td>0.0</td>\n      <td>1.0</td>\n      <td>0.224490</td>\n      <td>0.75</td>\n      <td>0.0</td>\n      <td>0.012295</td>\n    </tr>\n    <tr>\n      <th>4</th>\n      <td>2011-01-01 04:00:00</td>\n      <td>1.0</td>\n      <td>0.0</td>\n      <td>1</td>\n      <td>4</td>\n      <td>0.0</td>\n      <td>5</td>\n      <td>0.0</td>\n      <td>1.0</td>\n      <td>0.224490</td>\n      <td>0.75</td>\n      <td>0.0</td>\n      <td>0.000000</td>\n    </tr>\n  </tbody>\n</table>\n</div>"
     },
     "metadata": {},
     "execution_count": 32
    }
   ],
   "source": [
    "df.head()"
   ]
  }
 ]
}