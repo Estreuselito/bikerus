{
 "metadata": {
  "language_info": {
   "codemirror_mode": {
    "name": "ipython",
    "version": 3
   },
   "file_extension": ".py",
   "mimetype": "text/x-python",
   "name": "python",
   "nbconvert_exporter": "python",
   "pygments_lexer": "ipython3",
   "version": "3.8.6-final"
  },
  "orig_nbformat": 2,
  "kernelspec": {
   "name": "Python 3.8.6 64-bit",
   "display_name": "Python 3.8.6 64-bit",
   "metadata": {
    "interpreter": {
     "hash": "4cd7ab41f5fca4b9b44701077e38c5ffd31fe66a6cab21e0214b68d958d0e462"
    }
   }
  }
 },
 "nbformat": 4,
 "nbformat_minor": 2,
 "cells": [
  {
   "cell_type": "code",
   "execution_count": 1,
   "metadata": {},
   "outputs": [],
   "source": [
    "from data_preprocessing import decompress_pickle, compressed_pickle\n",
    "import pandas as pd\n",
    "import os\n",
    "\n",
    "# load data\n",
    "df = decompress_pickle(\"../data/preprocessed/BikeRental_complete.pbz2\")"
   ]
  },
  {
   "source": [
    "from pandas_profiling import ProfileReport\n",
    "profile = ProfileReport(df, title='Bike Share Rental Pandas Profiling Report', explorative = True, dark_mode = True)\n",
    "profile.to_file(output_file='Bike Share Rental Pandas Profiling Report.html')"
   ],
   "cell_type": "markdown",
   "metadata": {}
  },
  {
   "cell_type": "code",
   "execution_count": 2,
   "metadata": {},
   "outputs": [
    {
     "output_type": "execute_result",
     "data": {
      "text/plain": [
       "             datetime      dteday  season   yr  mnth  hr  holiday  weekday  \\\n",
       "0 2011-01-01 00:00:00  2011-01-01     1.0  0.0     1   0      0.0        5   \n",
       "1 2011-01-01 01:00:00  2011-01-01     1.0  0.0     1   1      0.0        5   \n",
       "2 2011-01-01 02:00:00  2011-01-01     1.0  0.0     1   2      0.0        5   \n",
       "3 2011-01-01 03:00:00  2011-01-01     1.0  0.0     1   3      0.0        5   \n",
       "4 2011-01-01 04:00:00  2011-01-01     1.0  0.0     1   4      0.0        5   \n",
       "\n",
       "   workingday  weathersit  temp   atemp   hum  windspeed  casual  registered  \\\n",
       "0         0.0         1.0  0.24  0.2879  0.81        0.0     3.0        13.0   \n",
       "1         0.0         1.0  0.22  0.2727  0.80        0.0     8.0        32.0   \n",
       "2         0.0         1.0  0.22  0.2727  0.80        0.0     5.0        27.0   \n",
       "3         0.0         1.0  0.24  0.2879  0.75        0.0     3.0        10.0   \n",
       "4         0.0         1.0  0.24  0.2879  0.75        0.0     0.0         1.0   \n",
       "\n",
       "    cnt  \n",
       "0  16.0  \n",
       "1  40.0  \n",
       "2  32.0  \n",
       "3  13.0  \n",
       "4   1.0  "
      ],
      "text/html": "<div>\n<style scoped>\n    .dataframe tbody tr th:only-of-type {\n        vertical-align: middle;\n    }\n\n    .dataframe tbody tr th {\n        vertical-align: top;\n    }\n\n    .dataframe thead th {\n        text-align: right;\n    }\n</style>\n<table border=\"1\" class=\"dataframe\">\n  <thead>\n    <tr style=\"text-align: right;\">\n      <th></th>\n      <th>datetime</th>\n      <th>dteday</th>\n      <th>season</th>\n      <th>yr</th>\n      <th>mnth</th>\n      <th>hr</th>\n      <th>holiday</th>\n      <th>weekday</th>\n      <th>workingday</th>\n      <th>weathersit</th>\n      <th>temp</th>\n      <th>atemp</th>\n      <th>hum</th>\n      <th>windspeed</th>\n      <th>casual</th>\n      <th>registered</th>\n      <th>cnt</th>\n    </tr>\n  </thead>\n  <tbody>\n    <tr>\n      <th>0</th>\n      <td>2011-01-01 00:00:00</td>\n      <td>2011-01-01</td>\n      <td>1.0</td>\n      <td>0.0</td>\n      <td>1</td>\n      <td>0</td>\n      <td>0.0</td>\n      <td>5</td>\n      <td>0.0</td>\n      <td>1.0</td>\n      <td>0.24</td>\n      <td>0.2879</td>\n      <td>0.81</td>\n      <td>0.0</td>\n      <td>3.0</td>\n      <td>13.0</td>\n      <td>16.0</td>\n    </tr>\n    <tr>\n      <th>1</th>\n      <td>2011-01-01 01:00:00</td>\n      <td>2011-01-01</td>\n      <td>1.0</td>\n      <td>0.0</td>\n      <td>1</td>\n      <td>1</td>\n      <td>0.0</td>\n      <td>5</td>\n      <td>0.0</td>\n      <td>1.0</td>\n      <td>0.22</td>\n      <td>0.2727</td>\n      <td>0.80</td>\n      <td>0.0</td>\n      <td>8.0</td>\n      <td>32.0</td>\n      <td>40.0</td>\n    </tr>\n    <tr>\n      <th>2</th>\n      <td>2011-01-01 02:00:00</td>\n      <td>2011-01-01</td>\n      <td>1.0</td>\n      <td>0.0</td>\n      <td>1</td>\n      <td>2</td>\n      <td>0.0</td>\n      <td>5</td>\n      <td>0.0</td>\n      <td>1.0</td>\n      <td>0.22</td>\n      <td>0.2727</td>\n      <td>0.80</td>\n      <td>0.0</td>\n      <td>5.0</td>\n      <td>27.0</td>\n      <td>32.0</td>\n    </tr>\n    <tr>\n      <th>3</th>\n      <td>2011-01-01 03:00:00</td>\n      <td>2011-01-01</td>\n      <td>1.0</td>\n      <td>0.0</td>\n      <td>1</td>\n      <td>3</td>\n      <td>0.0</td>\n      <td>5</td>\n      <td>0.0</td>\n      <td>1.0</td>\n      <td>0.24</td>\n      <td>0.2879</td>\n      <td>0.75</td>\n      <td>0.0</td>\n      <td>3.0</td>\n      <td>10.0</td>\n      <td>13.0</td>\n    </tr>\n    <tr>\n      <th>4</th>\n      <td>2011-01-01 04:00:00</td>\n      <td>2011-01-01</td>\n      <td>1.0</td>\n      <td>0.0</td>\n      <td>1</td>\n      <td>4</td>\n      <td>0.0</td>\n      <td>5</td>\n      <td>0.0</td>\n      <td>1.0</td>\n      <td>0.24</td>\n      <td>0.2879</td>\n      <td>0.75</td>\n      <td>0.0</td>\n      <td>0.0</td>\n      <td>1.0</td>\n      <td>1.0</td>\n    </tr>\n  </tbody>\n</table>\n</div>"
     },
     "metadata": {},
     "execution_count": 2
    }
   ],
   "source": [
    "df.head()"
   ]
  },
  {
   "cell_type": "code",
   "execution_count": 4,
   "metadata": {},
   "outputs": [],
   "source": [
    "X = df.drop('cnt', axis = 1)\n",
    "X = X.drop('datetime', axis = 1)\n",
    "X = X.drop('dteday', axis = 1)\n",
    "X = X.drop('registered', axis = 1)\n",
    "X = X.drop('casual', axis=1)\n",
    "#X = X.drop('yr', axis=1)\n",
    "Y = df['cnt']\n"
   ]
  },
  {
   "cell_type": "code",
   "execution_count": 4,
   "metadata": {},
   "outputs": [
    {
     "output_type": "stream",
     "name": "stdout",
     "text": [
      "(14035,)\n(3509,)\nY_train_mean = 187.66539347058855\nY_train_meandev = 459541132.40605336\nY_test_meandev = 116954039.11552408\n"
     ]
    }
   ],
   "source": [
    "from sklearn.model_selection import train_test_split\n",
    "X_train, X_test, Y_train, Y_test = train_test_split(X, Y, test_size = 0.2, random_state=0)\n",
    "print(Y_train.shape)\n",
    "print(Y_test.shape)\n",
    "\n",
    "Y_train_mean = Y_train.mean()\n",
    "print(\"Y_train_mean =\", Y_train_mean)\n",
    "Y_train_meandev = sum((Y_train-Y_train_mean)**2)\n",
    "print(\"Y_train_meandev =\", Y_train_meandev)\n",
    "Y_test_meandev = sum((Y_test-Y_train_mean)**2)\n",
    "print(\"Y_test_meandev =\", Y_test_meandev)"
   ]
  },
  {
   "cell_type": "code",
   "execution_count": 8,
   "metadata": {},
   "outputs": [
    {
     "output_type": "stream",
     "name": "stdout",
     "text": [
      "Y_train_mean = 177.86125170998633\nY_train_meandev = 429659156.4202601\nY_test_meandev = 148598422.69268876\n"
     ]
    }
   ],
   "source": [
    "from sklearn.model_selection import TimeSeriesSplit\n",
    "tss = TimeSeriesSplit()\n",
    "\n",
    "for train_index, test_index in tss.split(X):\n",
    "    X_train, X_test = X.iloc[train_index, :], X.iloc[test_index,:]\n",
    "    Y_train, Y_test = Y.iloc[train_index], Y.iloc[test_index]\n",
    "\n",
    "Y_train_mean = Y_train.mean()\n",
    "print(\"Y_train_mean =\", Y_train_mean)\n",
    "Y_train_meandev = sum((Y_train-Y_train_mean)**2)\n",
    "print(\"Y_train_meandev =\", Y_train_meandev)\n",
    "Y_test_meandev = sum((Y_test-Y_train_mean)**2)\n",
    "print(\"Y_test_meandev =\", Y_test_meandev)\n"
   ]
  },
  {
   "cell_type": "code",
   "execution_count": 11,
   "metadata": {},
   "outputs": [],
   "source": [
    "# create report dataframe\n",
    "report = pd.DataFrame(columns=['Model','R2.Train','R2.Test'])"
   ]
  },
  {
   "cell_type": "code",
   "execution_count": 12,
   "metadata": {},
   "outputs": [
    {
     "output_type": "stream",
     "name": "stdout",
     "text": [
      "R2 = 0.4014026119945089\nPseudo-R2 = 0.3564842588430778\n"
     ]
    }
   ],
   "source": [
    "################\n",
    "#     OLS      #\n",
    "################\n",
    "\n",
    "from sklearn.linear_model import LinearRegression\n",
    "lm = LinearRegression()\n",
    "lm.fit(X_train, Y_train)\n",
    "Y_train_pred = lm.predict(X_train)\n",
    "Y_train_dev = sum((Y_train-Y_train_pred)**2)\n",
    "r2 = 1 - Y_train_dev/Y_train_meandev\n",
    "print(\"R2 =\", r2)\n",
    "Y_test_pred = lm.predict(X_test)\n",
    "Y_test_dev = sum((Y_test-Y_test_pred)**2)\n",
    "pseudor2 = 1 - Y_test_dev/Y_test_meandev\n",
    "print(\"Pseudo-R2 =\", pseudor2)"
   ]
  },
  {
   "cell_type": "code",
   "execution_count": 13,
   "metadata": {},
   "outputs": [
    {
     "output_type": "stream",
     "name": "stdout",
     "text": [
      "{'fit_intercept': False}\nR2 = 0.40138392312863835\nPseudo-R2 = 0.35610452597060305\n"
     ]
    }
   ],
   "source": [
    "# OLS with Cross Validation and Grid Search\n",
    "from sklearn.linear_model import LinearRegression\n",
    "lmCV = LinearRegression()\n",
    "from sklearn.model_selection import GridSearchCV\n",
    "param_grid = { \n",
    "    'fit_intercept':[True,False]\n",
    "}\n",
    "CV_olsmodel = GridSearchCV(estimator=lmCV, param_grid=param_grid, cv=10)\n",
    "CV_olsmodel.fit(X_train, Y_train)\n",
    "print(CV_olsmodel.best_params_)\n",
    "lmCV = lmCV.set_params(**CV_olsmodel.best_params_)\n",
    "lmCV.fit(X_train, Y_train)\n",
    "Y_train_pred = lmCV.predict(X_train)\n",
    "Y_train_dev = sum((Y_train-Y_train_pred)**2)\n",
    "r2 = 1 - Y_train_dev/Y_train_meandev\n",
    "print(\"R2 =\", r2)\n",
    "Y_test_pred = lmCV.predict(X_test)\n",
    "Y_test_dev = sum((Y_test-Y_test_pred)**2)\n",
    "pseudor2 = 1 - Y_test_dev/Y_test_meandev\n",
    "print(\"Pseudo-R2 =\", pseudor2)\n",
    "report.loc[len(report)] = ['OLS RegressionCV', r2, pseudor2]"
   ]
  },
  {
   "cell_type": "code",
   "execution_count": 14,
   "metadata": {},
   "outputs": [
    {
     "output_type": "stream",
     "name": "stdout",
     "text": [
      "R2 = 0.4014007828305891\nPseudo-R2 = 0.35644490880869306\n"
     ]
    }
   ],
   "source": [
    "####################\n",
    "# Ridge Regression #\n",
    "####################\n",
    "\n",
    "from sklearn.linear_model import Ridge\n",
    "ridgereg = Ridge(alpha=2)\n",
    "ridgereg.fit(X_train, Y_train)\n",
    "Y_train_pred = ridgereg.predict(X_train)\n",
    "Y_train_dev = sum((Y_train-Y_train_pred)**2)\n",
    "r2 = 1 - Y_train_dev/Y_train_meandev\n",
    "print(\"R2 =\", r2)\n",
    "Y_test_pred = ridgereg.predict(X_test)\n",
    "Y_test_dev = sum((Y_test-Y_test_pred)**2)\n",
    "pseudor2 = 1 - Y_test_dev/Y_test_meandev\n",
    "print(\"Pseudo-R2 =\", pseudor2)\n"
   ]
  },
  {
   "cell_type": "code",
   "execution_count": 15,
   "metadata": {},
   "outputs": [
    {
     "output_type": "stream",
     "name": "stdout",
     "text": [
      "{'alpha': 25}\nR2 = 0.401232188280927\nPseudo-R2 = 0.35494181456372287\n"
     ]
    }
   ],
   "source": [
    "# find best lambda (alphas)\n",
    "from sklearn.linear_model import Ridge\n",
    "ridgeregCV = Ridge()\n",
    "from sklearn.model_selection import GridSearchCV\n",
    "param_grid = { \n",
    "    'alpha': [25,10,4,2,1.0,0.8,0.5,0.3,0.2,0.1,0.05,0.02,0.01]\n",
    "}\n",
    "CV_rrmodel = GridSearchCV(estimator=ridgeregCV, param_grid=param_grid, cv=10)\n",
    "CV_rrmodel.fit(X_train, Y_train)\n",
    "print(CV_rrmodel.best_params_)\n",
    "ridgeregCV = ridgeregCV.set_params(**CV_rrmodel.best_params_)\n",
    "ridgeregCV.fit(X_train, Y_train)\n",
    "Y_train_pred = ridgeregCV.predict(X_train)\n",
    "Y_train_dev = sum((Y_train-Y_train_pred)**2)\n",
    "r2 = 1 - Y_train_dev/Y_train_meandev\n",
    "print(\"R2 =\", r2)\n",
    "Y_test_pred = ridgeregCV.predict(X_test)\n",
    "Y_test_dev = sum((Y_test-Y_test_pred)**2)\n",
    "pseudor2 = 1 - Y_test_dev/Y_test_meandev\n",
    "print(\"Pseudo-R2 =\", pseudor2)\n",
    "report.loc[len(report)] = ['Ridge RegressionCV', r2, pseudor2]"
   ]
  },
  {
   "cell_type": "code",
   "execution_count": 16,
   "metadata": {},
   "outputs": [
    {
     "output_type": "stream",
     "name": "stdout",
     "text": [
      "R2 = 0.34406280877315265\n",
      "Pseudo-R2 = 0.25487956438543224\n"
     ]
    }
   ],
   "source": [
    "#############################\n",
    "# Support Vector Regression #\n",
    "#############################\n",
    "\n",
    "# linear kernel\n",
    "from sklearn.svm import SVR\n",
    "LinSVRreg = SVR(kernel='linear', C=1.0, epsilon=0.1)\n",
    "LinSVRreg.fit(X_train, Y_train)\n",
    "Y_train_pred = LinSVRreg.predict(X_train)\n",
    "Y_train_dev = sum((Y_train-Y_train_pred)**2)\n",
    "r2 = 1 - Y_train_dev/Y_train_meandev\n",
    "print(\"R2 =\", r2)\n",
    "Y_test_pred = LinSVRreg.predict(X_test)\n",
    "Y_test_dev = sum((Y_test-Y_test_pred)**2)\n",
    "pseudor2 = 1 - Y_test_dev/Y_test_meandev\n",
    "print(\"Pseudo-R2 =\", pseudor2)\n",
    "report.loc[len(report)] = ['Support Vector RegressionCV', r2, pseudor2]"
   ]
  },
  {
   "cell_type": "code",
   "execution_count": 17,
   "metadata": {},
   "outputs": [
    {
     "output_type": "stream",
     "name": "stdout",
     "text": [
      "R2 = 0.38574885793733726\n",
      "Pseudo-R2 = 0.28329777895635433\n"
     ]
    }
   ],
   "source": [
    "# radial kernel\n",
    "RbfSVRreg = SVR(kernel='rbf', C=1.0, epsilon=0.1)\n",
    "RbfSVRreg.fit(X_train, Y_train)\n",
    "Y_train_pred = RbfSVRreg.predict(X_train)\n",
    "Y_train_dev = sum((Y_train-Y_train_pred)**2)\n",
    "r2 = 1 - Y_train_dev/Y_train_meandev\n",
    "print(\"R2 =\", r2)\n",
    "Y_test_pred = RbfSVRreg.predict(X_test)\n",
    "Y_test_dev = sum((Y_test-Y_test_pred)**2)\n",
    "pseudor2 = 1 - Y_test_dev/Y_test_meandev\n",
    "print(\"Pseudo-R2 =\", pseudor2)\n",
    "report.loc[len(report)] = ['Support Vector RegressionCV', r2, pseudor2]"
   ]
  },
  {
   "source": [
    "from sklearn.svm import SVR\n",
    "RbfSVRregCV = SVR()\n",
    "from sklearn.model_selection import GridSearchCV\n",
    "param_grid = { \n",
    "    'kernel': [\"linear\", \"rbf\"], \n",
    "    'C': [1, 3, 5, 8, 10],\n",
    "    'epsilon': [0.0, 0.025, 0.05, 0.075, 0.1],\n",
    "    'gamma' : [0., 1., 2., 3., 4.]\n",
    "}\n",
    "CV_svrmodel = GridSearchCV(estimator=RbfSVRregCV, param_grid=param_grid, cv=10)\n",
    "CV_svrmodel.fit(X_train, Y_train)\n",
    "print(CV_svrmodel.best_params_)\n",
    "RbfSVRregCV = RbfSVRregCV.set_params(**CV_svrmodel.best_params_)\n",
    "RbfSVRregCV.fit(X_train, Y_train)\n",
    "Y_train_pred = RbfSVRregCV.predict(X_train)\n",
    "Y_train_dev = sum((Y_train-Y_train_pred)**2)\n",
    "r2 = 1 - Y_train_dev/Y_train_meandev\n",
    "print(\"R2 =\", r2)\n",
    "Y_test_pred = RbfSVRregCV.predict(X_test)\n",
    "Y_test_dev = sum((Y_test-Y_test_pred)**2)\n",
    "pseudor2 = 1 - Y_test_dev/Y_test_meandev\n",
    "print(\"Pseudo-R2 =\", pseudor2)\n",
    "report.loc[len(report)] = ['Support Vector RegressionCV', r2, pseudor2]"
   ],
   "cell_type": "code",
   "metadata": {},
   "execution_count": null,
   "outputs": []
  },
  {
   "cell_type": "code",
   "execution_count": 18,
   "metadata": {},
   "outputs": [
    {
     "output_type": "stream",
     "name": "stdout",
     "text": [
      "R2 = 0.5882970964463183\nPseudo-R2 = 0.5589824018612105\n"
     ]
    }
   ],
   "source": [
    "##################\n",
    "# Neural Network #\n",
    "##################\n",
    "\n",
    "from sklearn.neural_network import MLPRegressor\n",
    "NNetRreg = MLPRegressor(solver='lbfgs', max_iter=10000, hidden_layer_sizes=(10,), random_state=0)\n",
    "NNetRreg.fit(X_train, Y_train)\n",
    "Y_train_pred = NNetRreg.predict(X_train)\n",
    "Y_train_dev = sum((Y_train-Y_train_pred)**2)\n",
    "r2 = 1 - Y_train_dev/Y_train_meandev\n",
    "print(\"R2 =\", r2)\n",
    "Y_test_pred = NNetRreg.predict(X_test)\n",
    "Y_test_dev = sum((Y_test-Y_test_pred)**2)\n",
    "pseudor2 = 1 - Y_test_dev/Y_test_meandev\n",
    "print(\"Pseudo-R2 =\", pseudor2)\n",
    "report.loc[len(report)] = ['Neural NetworkCV', r2, pseudor2]"
   ]
  },
  {
   "source": [
    "from sklearn.neural_network import MLPRegressor\n",
    "NNetRregCV = MLPRegressor(solver='lbfgs', max_iter=10000, random_state=0)\n",
    "from sklearn.model_selection import GridSearchCV\n",
    "param_grid = { \n",
    "    'learning_rate': [\"constant\", \"invscaling\", \"adaptive\"],\n",
    "    'hidden_layer_sizes': [(5,), (8,), (10,), (13,)],\n",
    "    'alpha': [0.0, 0.0025, 0.005, 0.0075, 0.01, 0.1],\n",
    "    'activation': [\"logistic\", \"relu\", \"tanh\"]\n",
    "}\n",
    "CV_nnmodel = GridSearchCV(estimator=NNetRregCV, param_grid=param_grid, cv=10)\n",
    "CV_nnmodel.fit(X_train, Y_train)\n",
    "print(CV_nnmodel.best_params_)\n",
    "NNetRregCV = NNetRregCV.set_params(**CV_nnmodel.best_params_)\n",
    "NNetRregCV.fit(X_train, Y_train)\n",
    "Y_train_pred = NNetRregCV.predict(X_train)\n",
    "Y_train_dev = sum((Y_train-Y_train_pred)**2)\n",
    "r2 = 1 - Y_train_dev/Y_train_meandev\n",
    "print(\"R2 =\", r2)\n",
    "Y_test_pred = NNetRregCV.predict(X_test)\n",
    "Y_test_dev = sum((Y_test-Y_test_pred)**2)\n",
    "pseudor2 = 1 - Y_test_dev/Y_test_meandev\n",
    "print(\"Pseudo-R2 =\", pseudor2)\n",
    "report.loc[len(report)] = ['Neural NetworkCV', r2, pseudor2]"
   ],
   "cell_type": "code",
   "metadata": {},
   "execution_count": null,
   "outputs": []
  },
  {
   "cell_type": "code",
   "execution_count": 19,
   "metadata": {},
   "outputs": [
    {
     "output_type": "stream",
     "name": "stdout",
     "text": [
      "R2 = 0.9931131619571687\nPseudo-R2 = 0.8898634544501338\n"
     ]
    }
   ],
   "source": [
    "#################\n",
    "# Random Forest #\n",
    "#################\n",
    "\n",
    "from sklearn.ensemble import RandomForestRegressor\n",
    "RForreg = RandomForestRegressor(n_estimators=500, random_state=0)\n",
    "RForreg.fit(X_train, Y_train)\n",
    "Y_train_pred = RForreg.predict(X_train)\n",
    "Y_train_dev = sum((Y_train-Y_train_pred)**2)\n",
    "r2 = 1 - Y_train_dev/Y_train_meandev\n",
    "print(\"R2 =\", r2)\n",
    "Y_test_pred = RForreg.predict(X_test)\n",
    "Y_test_dev = sum((Y_test-Y_test_pred)**2)\n",
    "pseudor2 = 1 - Y_test_dev/Y_test_meandev\n",
    "print(\"Pseudo-R2 =\", pseudor2)\n",
    "report.loc[len(report)] = ['Random ForestCV', r2, pseudor2]"
   ]
  },
  {
   "cell_type": "code",
   "execution_count": null,
   "metadata": {},
   "outputs": [],
   "source": [
    "from sklearn.ensemble import RandomForestRegressor\n",
    "RForregCV = RandomForestRegressor(random_state=0)\n",
    "from sklearn.model_selection import GridSearchCV\n",
    "param_grid = { \n",
    "    'max_depth': [ 4.,  5.,  6.,  7.,  8.],\n",
    "    'n_estimators': [ 10,  50,  100, 150, 200]\n",
    "}\n",
    "CV_rfmodel = GridSearchCV(estimator=RForregCV, param_grid=param_grid, cv=10)\n",
    "CV_rfmodel.fit(X_train, Y_train)\n",
    "print(CV_rfmodel.best_params_)\n",
    "RForregCV = RForregCV.set_params(**CV_rfmodel.best_params_)\n",
    "RForregCV.fit(X_train, Y_train)\n",
    "Y_train_pred = RForregCV.predict(X_train)\n",
    "Y_train_dev = sum((Y_train-Y_train_pred)**2)\n",
    "r2 = 1 - Y_train_dev/Y_train_meandev\n",
    "print(\"R2 =\", r2)\n",
    "Y_test_pred = RForregCV.predict(X_test)\n",
    "Y_test_dev = sum((Y_test-Y_test_pred)**2)\n",
    "pseudor2 = 1 - Y_test_dev/Y_test_meandev\n",
    "print(\"Pseudo-R2 =\", pseudor2)\n",
    "report.loc[len(report)] = ['Random ForestCV', r2, pseudor2]\n"
   ]
  },
  {
   "cell_type": "code",
   "execution_count": 20,
   "metadata": {},
   "outputs": [
    {
     "output_type": "stream",
     "name": "stdout",
     "text": [
      "R2 = 0.8821010671844156\nPseudo-R2 = 0.7904120645466031\n"
     ]
    }
   ],
   "source": [
    "#####################\n",
    "# Gradient Boosting #\n",
    "#####################\n",
    "\n",
    "from sklearn.ensemble import GradientBoostingRegressor\n",
    "GBoostreg = GradientBoostingRegressor(random_state=0)\n",
    "GBoostreg.fit(X_train, Y_train)\n",
    "Y_train_pred = GBoostreg.predict(X_train)\n",
    "Y_train_dev = sum((Y_train-Y_train_pred)**2)\n",
    "r2 = 1 - Y_train_dev/Y_train_meandev\n",
    "print(\"R2 =\", r2)\n",
    "Y_test_pred = GBoostreg.predict(X_test)\n",
    "Y_test_dev = sum((Y_test-Y_test_pred)**2)\n",
    "pseudor2 = 1 - Y_test_dev/Y_test_meandev\n",
    "print(\"Pseudo-R2 =\", pseudor2)\n",
    "report.loc[len(report)] = ['Gradient BoostingCV', r2, pseudor2]"
   ]
  },
  {
   "cell_type": "code",
   "execution_count": null,
   "metadata": {},
   "outputs": [],
   "source": [
    "from sklearn.ensemble import GradientBoostingRegressor\n",
    "GBoostregCV = GradientBoostingRegressor(random_state=0)\n",
    "from sklearn.model_selection import GridSearchCV\n",
    "param_grid = { \n",
    "    'max_depth': [ 3., 4., 5.],\n",
    "    'subsample': [0.7, 0.8, 0.9],\n",
    "    'n_estimators': [50, 100,150],\n",
    "    'learning_rate': [0.1, 0.2, 0.3]\n",
    "}\n",
    "CV_gbmodel = GridSearchCV(estimator=GBoostregCV, param_grid=param_grid, cv=10)\n",
    "CV_gbmodel.fit(X_train, Y_train)\n",
    "print(CV_gbmodel.best_params_)\n",
    "GBoostregCV = GBoostregCV.set_params(**CV_gbmodel.best_params_)\n",
    "GBoostregCV.fit(X_train, Y_train)\n",
    "Y_train_pred = GBoostregCV.predict(X_train)\n",
    "Y_train_dev = sum((Y_train-Y_train_pred)**2)\n",
    "r2 = 1 - Y_train_dev/Y_train_meandev\n",
    "print(\"R2 =\", r2)\n",
    "Y_test_pred = GBoostregCV.predict(X_test)\n",
    "Y_test_dev = sum((Y_test-Y_test_pred)**2)\n",
    "pseudor2 = 1 - Y_test_dev/Y_test_meandev\n",
    "print(\"Pseudo-R2 =\", pseudor2)\n",
    "report.loc[len(report)] = ['Gradient BoostingCV', r2, pseudor2]"
   ]
  },
  {
   "cell_type": "code",
   "execution_count": 21,
   "metadata": {},
   "outputs": [
    {
     "output_type": "stream",
     "name": "stdout",
     "text": [
      "                         Model  R2.Train   R2.Test\n0             OLS RegressionCV  0.401384  0.356105\n1           Ridge RegressionCV  0.401232  0.354942\n2  Support Vector RegressionCV  0.344063  0.254880\n3  Support Vector RegressionCV  0.385749  0.283298\n4             Neural NetworkCV  0.588297  0.558982\n5              Random ForestCV  0.993113  0.889863\n6          Gradient BoostingCV  0.882101  0.790412\n"
     ]
    }
   ],
   "source": [
    "################\n",
    "# Final Report #\n",
    "################\n",
    "\n",
    "print(report)"
   ]
  },
  {
   "cell_type": "code",
   "execution_count": 6,
   "metadata": {},
   "outputs": [],
   "source": [
    "from data_preprocessing import decompress_pickle, compressed_pickle\n",
    "import pandas as pd\n",
    "df1 = decompress_pickle(\"../data/interim/ArtificalRentals13.pbz2\")"
   ]
  },
  {
   "cell_type": "code",
   "execution_count": 7,
   "metadata": {},
   "outputs": [
    {
     "output_type": "stream",
     "name": "stdout",
     "text": [
      "<class 'pandas.core.frame.DataFrame'>\nInt64Index: 2555541 entries, 0 to 583665\nData columns (total 9 columns):\n #   Column                Dtype         \n---  ------                -----         \n 0   Duration              int64         \n 1   Start date            datetime64[ns]\n 2   End date              datetime64[ns]\n 3   Start station number  int64         \n 4   Start station         object        \n 5   End station number    int64         \n 6   End station           object        \n 7   Bike number           object        \n 8   Member type           object        \ndtypes: datetime64[ns](2), int64(3), object(4)\nmemory usage: 195.0+ MB\n"
     ]
    }
   ],
   "source": [
    "df1.info()"
   ]
  },
  {
   "cell_type": "code",
   "execution_count": 11,
   "metadata": {},
   "outputs": [
    {
     "output_type": "execute_result",
     "data": {
      "text/plain": [
       "       Duration          Start date            End date  Start station number  \\\n",
       "13000      1171 2013-01-04 19:27:18 2013-01-04 19:46:50                 31220   \n",
       "13001      2524 2013-01-04 19:27:20 2013-01-04 20:09:24                 31400   \n",
       "13002       321 2013-01-04 19:27:32 2013-01-04 19:32:54                 31615   \n",
       "13003       830 2013-01-04 19:27:33 2013-01-04 19:41:23                 31116   \n",
       "13004       471 2013-01-04 19:27:43 2013-01-04 19:35:34                 31037   \n",
       "13005       404 2013-01-04 19:27:48 2013-01-04 19:34:33                 31214   \n",
       "13006       373 2013-01-04 19:28:01 2013-01-04 19:34:15                 31214   \n",
       "13007       384 2013-01-04 19:28:08 2013-01-04 19:34:32                 31619   \n",
       "13008       566 2013-01-04 19:28:11 2013-01-04 19:37:38                 31107   \n",
       "13009       365 2013-01-04 19:28:16 2013-01-04 19:34:22                 31619   \n",
       "13010       602 2013-01-04 19:28:42 2013-01-04 19:38:45                 31253   \n",
       "13011       326 2013-01-04 19:29:06 2013-01-04 19:34:33                 31602   \n",
       "13012       186 2013-01-04 19:29:22 2013-01-04 19:32:29                 31100   \n",
       "13013      1144 2013-01-04 19:29:54 2013-01-04 19:48:59                 31243   \n",
       "13014      1295 2013-01-04 19:30:01 2013-01-04 19:51:37                 31230   \n",
       "13015      1336 2013-01-04 19:30:38 2013-01-04 19:52:54                 31238   \n",
       "13016       446 2013-01-04 19:31:20 2013-01-04 19:38:47                 31033   \n",
       "13017       296 2013-01-04 19:31:20 2013-01-04 19:36:16                 31250   \n",
       "13018      1089 2013-01-04 19:31:51 2013-01-04 19:50:01                 31233   \n",
       "13019       360 2013-01-04 19:31:53 2013-01-04 19:37:54                 31241   \n",
       "13020       460 2013-01-04 19:31:55 2013-01-04 19:39:36                 31111   \n",
       "13021       749 2013-01-04 19:32:28 2013-01-04 19:44:57                 31237   \n",
       "13022      1727 2013-01-04 19:32:32 2013-01-04 20:01:19                 31113   \n",
       "13023       747 2013-01-04 19:32:34 2013-01-04 19:45:01                 31305   \n",
       "13024       331 2013-01-04 19:33:10 2013-01-04 19:38:41                 31624   \n",
       "13025       272 2013-01-04 19:33:34 2013-01-04 19:38:06                 31256   \n",
       "13026       662 2013-01-04 19:33:44 2013-01-04 19:44:47                 31237   \n",
       "13027       772 2013-01-04 19:34:24 2013-01-04 19:47:16                 31621   \n",
       "13028       356 2013-01-04 19:34:31 2013-01-04 19:40:27                 31231   \n",
       "13029       462 2013-01-04 19:34:47 2013-01-04 19:42:29                 31241   \n",
       "13030       377 2013-01-04 19:34:59 2013-01-04 19:41:17                 31301   \n",
       "13031       205 2013-01-04 19:35:01 2013-01-04 19:38:26                 31257   \n",
       "13032       216 2013-01-04 19:35:12 2013-01-04 19:38:49                 31616   \n",
       "13033      1398 2013-01-04 19:35:13 2013-01-04 19:58:31                 31215   \n",
       "13034       444 2013-01-04 19:35:14 2013-01-04 19:42:38                 31623   \n",
       "13035      1173 2013-01-04 19:35:47 2013-01-04 19:55:21                 31222   \n",
       "13036      1366 2013-01-04 19:36:16 2013-01-04 19:59:02                 31304   \n",
       "13037       916 2013-01-04 19:36:55 2013-01-04 19:52:12                 31508   \n",
       "13038       624 2013-01-04 19:36:56 2013-01-04 19:47:20                 31220   \n",
       "13039       290 2013-01-04 19:36:56 2013-01-04 19:41:47                 31106   \n",
       "13040       395 2013-01-04 19:37:04 2013-01-04 19:43:39                 31241   \n",
       "13041      6120 2013-01-04 19:37:27 2013-01-04 21:19:27                 31107   \n",
       "13042      2124 2013-01-04 19:37:59 2013-01-04 20:13:24                 31221   \n",
       "13043       422 2013-01-04 19:38:09 2013-01-04 19:45:12                 31611   \n",
       "13044       518 2013-01-04 19:38:15 2013-01-04 19:46:54                 31625   \n",
       "13045      8664 2013-01-04 19:38:24 2013-01-04 22:02:49                 31239   \n",
       "13046       568 2013-01-04 19:38:47 2013-01-04 19:48:16                 31109   \n",
       "13047      1316 2013-01-04 19:39:01 2013-01-04 20:00:57                 31400   \n",
       "13048       573 2013-01-04 19:39:01 2013-01-04 19:48:35                 31109   \n",
       "13049       437 2013-01-04 19:39:23 2013-01-04 19:46:41                 31201   \n",
       "\n",
       "                                         Start station  End station number  \\\n",
       "13000     US Dept of State / Virginia Ave & 21st St NW               31109   \n",
       "13001                   Georgia & New Hampshire Ave NW               31610   \n",
       "13002                                    6th & H St NE               31603   \n",
       "13003                   California St & Florida Ave NW               31113   \n",
       "13004             Ballston Metro / N Stuart & 9th St N               31026   \n",
       "13005                            17th & Corcoran St NW               31201   \n",
       "13006                            17th & Corcoran St NW               31201   \n",
       "13007        Lincoln Park / 13th & East Capitol St NE                31613   \n",
       "13008                          Lamont & Mt Pleasant NW               31214   \n",
       "13009        Lincoln Park / 13th & East Capitol St NE                31613   \n",
       "13010                                   19th & K St NW               31229   \n",
       "13011                          Park Rd & Holmead Pl NW               31107   \n",
       "13012                    19th St & Pennsylvania Ave NW               31233   \n",
       "13013                                    4th & C St SW               31246   \n",
       "13014                    Metro Center / 12th & G St NW               31229   \n",
       "13015                                   14th & G St NW               31229   \n",
       "13016                        Barcroft Community Center               31049   \n",
       "13017                                   20th & L St NW               31239   \n",
       "13018                 17th & K St NW / Farragut Square               31229   \n",
       "13019                                    Thomas Circle               31255   \n",
       "13020                                   10th & U St NW               31229   \n",
       "13021                    25th St & Pennsylvania Ave NW               31225   \n",
       "13022                      Columbia Rd & Belmont St NW               31200   \n",
       "13023  Connecticut Ave & Newark St NW / Cleveland Park               31103   \n",
       "13024                       North Capitol St & F St NW               31603   \n",
       "13025                                   10th & E St NW               31620   \n",
       "13026                    25th St & Pennsylvania Ave NW               31225   \n",
       "13027                 4th & D St NW / Judiciary Square               31231   \n",
       "13028          14th & D St NW / Ronald Reagan Building               31228   \n",
       "13029                                    Thomas Circle               31604   \n",
       "13030                Ward Circle / American University               31303   \n",
       "13031                    22nd & I St NW / Foggy Bottom               31246   \n",
       "13032                                    3rd & H St NE               31603   \n",
       "13033                   Georgetown Harbor / 30th St NW               31305   \n",
       "13034                  Columbus Circle / Union Station               31619   \n",
       "13035                        New York Ave & 15th St NW               31628   \n",
       "13036               36th & Calvert St NW / Glover Park               31506   \n",
       "13037              Gallaudet / 8th St & Florida Ave NE               31109   \n",
       "13038     US Dept of State / Virginia Ave & 21st St NW               31228   \n",
       "13039                         Calvert & Biltmore St NW               31116   \n",
       "13040                                    Thomas Circle               31110   \n",
       "13041                          Lamont & Mt Pleasant NW               31102   \n",
       "13042                                   18th & M St NW               31111   \n",
       "13043                                   13th & H St NE               31623   \n",
       "13044                                    3rd & G St SE               31623   \n",
       "13045                Rhode Island & Connecticut Ave NW               31233   \n",
       "13046                                    7th & T St NW               31241   \n",
       "13047                   Georgia & New Hampshire Ave NW               31614   \n",
       "13048                                    7th & T St NW               31241   \n",
       "13049                                   15th & P St NW               31234   \n",
       "\n",
       "                                             End station Bike number  \\\n",
       "13000                                      7th & T St NW      W00253   \n",
       "13001       Eastern Market / 7th & North Carolina Ave SE      W00406   \n",
       "13002                                      1st & M St NE      W01231   \n",
       "13003                        Columbia Rd & Belmont St NW      W01321   \n",
       "13004                        Washington Blvd & 10th St N      W20959   \n",
       "13005                                     15th & P St NW      W00903   \n",
       "13006                                     15th & P St NW      W01032   \n",
       "13007  Eastern Market Metro / Pennsylvania Ave & 7th ...      W01453   \n",
       "13008                              17th & Corcoran St NW      W00438   \n",
       "13009  Eastern Market Metro / Pennsylvania Ave & 7th ...      W00186   \n",
       "13010                        New Hampshire Ave & T St NW      W00194   \n",
       "13011                            Lamont & Mt Pleasant NW      W01199   \n",
       "13012                   17th & K St NW / Farragut Square      W00710   \n",
       "13013                         M St & Pennsylvania Ave NW      W01361   \n",
       "13014                        New Hampshire Ave & T St NW      W01107   \n",
       "13015                        New Hampshire Ave & T St NW      W01431   \n",
       "13016                               Utah St & 11th St N       W00687   \n",
       "13017                  Rhode Island & Connecticut Ave NW      W00904   \n",
       "13018                        New Hampshire Ave & T St NW      W00432   \n",
       "13019                                     24th & N St NW      W00911   \n",
       "13020                        New Hampshire Ave & T St NW      W01158   \n",
       "13021                     C & O Canal & Wisconsin Ave NW      W00564   \n",
       "13022               Massachusetts Ave & Dupont Circle NW      W01325   \n",
       "13023                               16th & Harvard St NW      W01081   \n",
       "13024                                      1st & M St NE      W00097   \n",
       "13025                                      5th & F St NW      W20933   \n",
       "13026                     C & O Canal & Wisconsin Ave NW      W20140   \n",
       "13027            14th & D St NW / Ronald Reagan Building      W01026   \n",
       "13028                                      8th & H St NW      W00974   \n",
       "13029                                      3rd & H St NW      W20087   \n",
       "13030       Tenleytown / Wisconsin Ave & Albemarle St NW      W00937   \n",
       "13031                         M St & Pennsylvania Ave NW      W01482   \n",
       "13032                                      1st & M St NE      W00198   \n",
       "13033    Connecticut Ave & Newark St NW / Cleveland Park      W20928   \n",
       "13034          Lincoln Park / 13th & East Capitol St NE       W00531   \n",
       "13035                                      1st & K St SE      W00338   \n",
       "13036                          1st & Rhode Island Ave NW      W00643   \n",
       "13037                                      7th & T St NW      W01295   \n",
       "13038                                      8th & H St NW      W00733   \n",
       "13039                     California St & Florida Ave NW      W01178   \n",
       "13040                           20th St & Florida Ave NW      W01029   \n",
       "13041                                11th & Kenyon St NW      W01199   \n",
       "13042                                     10th & U St NW      W00183   \n",
       "13043                    Columbus Circle / Union Station      W00699   \n",
       "13044                    Columbus Circle / Union Station      W00851   \n",
       "13045                   17th & K St NW / Farragut Square      W20979   \n",
       "13046                                      Thomas Circle      W20169   \n",
       "13047                                     11th & H St NE      W01369   \n",
       "13048                                      Thomas Circle      W20940   \n",
       "13049                      20th & O St NW / Dupont South      W01032   \n",
       "\n",
       "      Member type  \n",
       "13000      Member  \n",
       "13001      Casual  \n",
       "13002      Member  \n",
       "13003      Member  \n",
       "13004      Member  \n",
       "13005      Member  \n",
       "13006      Member  \n",
       "13007      Member  \n",
       "13008      Member  \n",
       "13009      Member  \n",
       "13010      Member  \n",
       "13011      Member  \n",
       "13012      Member  \n",
       "13013      Member  \n",
       "13014      Member  \n",
       "13015      Member  \n",
       "13016      Member  \n",
       "13017      Member  \n",
       "13018      Member  \n",
       "13019      Member  \n",
       "13020      Member  \n",
       "13021      Casual  \n",
       "13022      Member  \n",
       "13023      Member  \n",
       "13024      Member  \n",
       "13025      Member  \n",
       "13026      Casual  \n",
       "13027      Member  \n",
       "13028      Member  \n",
       "13029      Member  \n",
       "13030      Member  \n",
       "13031      Member  \n",
       "13032      Member  \n",
       "13033      Member  \n",
       "13034      Member  \n",
       "13035      Member  \n",
       "13036      Casual  \n",
       "13037      Member  \n",
       "13038      Member  \n",
       "13039      Member  \n",
       "13040      Member  \n",
       "13041      Member  \n",
       "13042      Member  \n",
       "13043      Member  \n",
       "13044      Member  \n",
       "13045      Member  \n",
       "13046      Member  \n",
       "13047      Member  \n",
       "13048      Member  \n",
       "13049      Member  "
      ],
      "text/html": "<div>\n<style scoped>\n    .dataframe tbody tr th:only-of-type {\n        vertical-align: middle;\n    }\n\n    .dataframe tbody tr th {\n        vertical-align: top;\n    }\n\n    .dataframe thead th {\n        text-align: right;\n    }\n</style>\n<table border=\"1\" class=\"dataframe\">\n  <thead>\n    <tr style=\"text-align: right;\">\n      <th></th>\n      <th>Duration</th>\n      <th>Start date</th>\n      <th>End date</th>\n      <th>Start station number</th>\n      <th>Start station</th>\n      <th>End station number</th>\n      <th>End station</th>\n      <th>Bike number</th>\n      <th>Member type</th>\n    </tr>\n  </thead>\n  <tbody>\n    <tr>\n      <th>13000</th>\n      <td>1171</td>\n      <td>2013-01-04 19:27:18</td>\n      <td>2013-01-04 19:46:50</td>\n      <td>31220</td>\n      <td>US Dept of State / Virginia Ave &amp; 21st St NW</td>\n      <td>31109</td>\n      <td>7th &amp; T St NW</td>\n      <td>W00253</td>\n      <td>Member</td>\n    </tr>\n    <tr>\n      <th>13001</th>\n      <td>2524</td>\n      <td>2013-01-04 19:27:20</td>\n      <td>2013-01-04 20:09:24</td>\n      <td>31400</td>\n      <td>Georgia &amp; New Hampshire Ave NW</td>\n      <td>31610</td>\n      <td>Eastern Market / 7th &amp; North Carolina Ave SE</td>\n      <td>W00406</td>\n      <td>Casual</td>\n    </tr>\n    <tr>\n      <th>13002</th>\n      <td>321</td>\n      <td>2013-01-04 19:27:32</td>\n      <td>2013-01-04 19:32:54</td>\n      <td>31615</td>\n      <td>6th &amp; H St NE</td>\n      <td>31603</td>\n      <td>1st &amp; M St NE</td>\n      <td>W01231</td>\n      <td>Member</td>\n    </tr>\n    <tr>\n      <th>13003</th>\n      <td>830</td>\n      <td>2013-01-04 19:27:33</td>\n      <td>2013-01-04 19:41:23</td>\n      <td>31116</td>\n      <td>California St &amp; Florida Ave NW</td>\n      <td>31113</td>\n      <td>Columbia Rd &amp; Belmont St NW</td>\n      <td>W01321</td>\n      <td>Member</td>\n    </tr>\n    <tr>\n      <th>13004</th>\n      <td>471</td>\n      <td>2013-01-04 19:27:43</td>\n      <td>2013-01-04 19:35:34</td>\n      <td>31037</td>\n      <td>Ballston Metro / N Stuart &amp; 9th St N</td>\n      <td>31026</td>\n      <td>Washington Blvd &amp; 10th St N</td>\n      <td>W20959</td>\n      <td>Member</td>\n    </tr>\n    <tr>\n      <th>13005</th>\n      <td>404</td>\n      <td>2013-01-04 19:27:48</td>\n      <td>2013-01-04 19:34:33</td>\n      <td>31214</td>\n      <td>17th &amp; Corcoran St NW</td>\n      <td>31201</td>\n      <td>15th &amp; P St NW</td>\n      <td>W00903</td>\n      <td>Member</td>\n    </tr>\n    <tr>\n      <th>13006</th>\n      <td>373</td>\n      <td>2013-01-04 19:28:01</td>\n      <td>2013-01-04 19:34:15</td>\n      <td>31214</td>\n      <td>17th &amp; Corcoran St NW</td>\n      <td>31201</td>\n      <td>15th &amp; P St NW</td>\n      <td>W01032</td>\n      <td>Member</td>\n    </tr>\n    <tr>\n      <th>13007</th>\n      <td>384</td>\n      <td>2013-01-04 19:28:08</td>\n      <td>2013-01-04 19:34:32</td>\n      <td>31619</td>\n      <td>Lincoln Park / 13th &amp; East Capitol St NE</td>\n      <td>31613</td>\n      <td>Eastern Market Metro / Pennsylvania Ave &amp; 7th ...</td>\n      <td>W01453</td>\n      <td>Member</td>\n    </tr>\n    <tr>\n      <th>13008</th>\n      <td>566</td>\n      <td>2013-01-04 19:28:11</td>\n      <td>2013-01-04 19:37:38</td>\n      <td>31107</td>\n      <td>Lamont &amp; Mt Pleasant NW</td>\n      <td>31214</td>\n      <td>17th &amp; Corcoran St NW</td>\n      <td>W00438</td>\n      <td>Member</td>\n    </tr>\n    <tr>\n      <th>13009</th>\n      <td>365</td>\n      <td>2013-01-04 19:28:16</td>\n      <td>2013-01-04 19:34:22</td>\n      <td>31619</td>\n      <td>Lincoln Park / 13th &amp; East Capitol St NE</td>\n      <td>31613</td>\n      <td>Eastern Market Metro / Pennsylvania Ave &amp; 7th ...</td>\n      <td>W00186</td>\n      <td>Member</td>\n    </tr>\n    <tr>\n      <th>13010</th>\n      <td>602</td>\n      <td>2013-01-04 19:28:42</td>\n      <td>2013-01-04 19:38:45</td>\n      <td>31253</td>\n      <td>19th &amp; K St NW</td>\n      <td>31229</td>\n      <td>New Hampshire Ave &amp; T St NW</td>\n      <td>W00194</td>\n      <td>Member</td>\n    </tr>\n    <tr>\n      <th>13011</th>\n      <td>326</td>\n      <td>2013-01-04 19:29:06</td>\n      <td>2013-01-04 19:34:33</td>\n      <td>31602</td>\n      <td>Park Rd &amp; Holmead Pl NW</td>\n      <td>31107</td>\n      <td>Lamont &amp; Mt Pleasant NW</td>\n      <td>W01199</td>\n      <td>Member</td>\n    </tr>\n    <tr>\n      <th>13012</th>\n      <td>186</td>\n      <td>2013-01-04 19:29:22</td>\n      <td>2013-01-04 19:32:29</td>\n      <td>31100</td>\n      <td>19th St &amp; Pennsylvania Ave NW</td>\n      <td>31233</td>\n      <td>17th &amp; K St NW / Farragut Square</td>\n      <td>W00710</td>\n      <td>Member</td>\n    </tr>\n    <tr>\n      <th>13013</th>\n      <td>1144</td>\n      <td>2013-01-04 19:29:54</td>\n      <td>2013-01-04 19:48:59</td>\n      <td>31243</td>\n      <td>4th &amp; C St SW</td>\n      <td>31246</td>\n      <td>M St &amp; Pennsylvania Ave NW</td>\n      <td>W01361</td>\n      <td>Member</td>\n    </tr>\n    <tr>\n      <th>13014</th>\n      <td>1295</td>\n      <td>2013-01-04 19:30:01</td>\n      <td>2013-01-04 19:51:37</td>\n      <td>31230</td>\n      <td>Metro Center / 12th &amp; G St NW</td>\n      <td>31229</td>\n      <td>New Hampshire Ave &amp; T St NW</td>\n      <td>W01107</td>\n      <td>Member</td>\n    </tr>\n    <tr>\n      <th>13015</th>\n      <td>1336</td>\n      <td>2013-01-04 19:30:38</td>\n      <td>2013-01-04 19:52:54</td>\n      <td>31238</td>\n      <td>14th &amp; G St NW</td>\n      <td>31229</td>\n      <td>New Hampshire Ave &amp; T St NW</td>\n      <td>W01431</td>\n      <td>Member</td>\n    </tr>\n    <tr>\n      <th>13016</th>\n      <td>446</td>\n      <td>2013-01-04 19:31:20</td>\n      <td>2013-01-04 19:38:47</td>\n      <td>31033</td>\n      <td>Barcroft Community Center</td>\n      <td>31049</td>\n      <td>Utah St &amp; 11th St N</td>\n      <td>W00687</td>\n      <td>Member</td>\n    </tr>\n    <tr>\n      <th>13017</th>\n      <td>296</td>\n      <td>2013-01-04 19:31:20</td>\n      <td>2013-01-04 19:36:16</td>\n      <td>31250</td>\n      <td>20th &amp; L St NW</td>\n      <td>31239</td>\n      <td>Rhode Island &amp; Connecticut Ave NW</td>\n      <td>W00904</td>\n      <td>Member</td>\n    </tr>\n    <tr>\n      <th>13018</th>\n      <td>1089</td>\n      <td>2013-01-04 19:31:51</td>\n      <td>2013-01-04 19:50:01</td>\n      <td>31233</td>\n      <td>17th &amp; K St NW / Farragut Square</td>\n      <td>31229</td>\n      <td>New Hampshire Ave &amp; T St NW</td>\n      <td>W00432</td>\n      <td>Member</td>\n    </tr>\n    <tr>\n      <th>13019</th>\n      <td>360</td>\n      <td>2013-01-04 19:31:53</td>\n      <td>2013-01-04 19:37:54</td>\n      <td>31241</td>\n      <td>Thomas Circle</td>\n      <td>31255</td>\n      <td>24th &amp; N St NW</td>\n      <td>W00911</td>\n      <td>Member</td>\n    </tr>\n    <tr>\n      <th>13020</th>\n      <td>460</td>\n      <td>2013-01-04 19:31:55</td>\n      <td>2013-01-04 19:39:36</td>\n      <td>31111</td>\n      <td>10th &amp; U St NW</td>\n      <td>31229</td>\n      <td>New Hampshire Ave &amp; T St NW</td>\n      <td>W01158</td>\n      <td>Member</td>\n    </tr>\n    <tr>\n      <th>13021</th>\n      <td>749</td>\n      <td>2013-01-04 19:32:28</td>\n      <td>2013-01-04 19:44:57</td>\n      <td>31237</td>\n      <td>25th St &amp; Pennsylvania Ave NW</td>\n      <td>31225</td>\n      <td>C &amp; O Canal &amp; Wisconsin Ave NW</td>\n      <td>W00564</td>\n      <td>Casual</td>\n    </tr>\n    <tr>\n      <th>13022</th>\n      <td>1727</td>\n      <td>2013-01-04 19:32:32</td>\n      <td>2013-01-04 20:01:19</td>\n      <td>31113</td>\n      <td>Columbia Rd &amp; Belmont St NW</td>\n      <td>31200</td>\n      <td>Massachusetts Ave &amp; Dupont Circle NW</td>\n      <td>W01325</td>\n      <td>Member</td>\n    </tr>\n    <tr>\n      <th>13023</th>\n      <td>747</td>\n      <td>2013-01-04 19:32:34</td>\n      <td>2013-01-04 19:45:01</td>\n      <td>31305</td>\n      <td>Connecticut Ave &amp; Newark St NW / Cleveland Park</td>\n      <td>31103</td>\n      <td>16th &amp; Harvard St NW</td>\n      <td>W01081</td>\n      <td>Member</td>\n    </tr>\n    <tr>\n      <th>13024</th>\n      <td>331</td>\n      <td>2013-01-04 19:33:10</td>\n      <td>2013-01-04 19:38:41</td>\n      <td>31624</td>\n      <td>North Capitol St &amp; F St NW</td>\n      <td>31603</td>\n      <td>1st &amp; M St NE</td>\n      <td>W00097</td>\n      <td>Member</td>\n    </tr>\n    <tr>\n      <th>13025</th>\n      <td>272</td>\n      <td>2013-01-04 19:33:34</td>\n      <td>2013-01-04 19:38:06</td>\n      <td>31256</td>\n      <td>10th &amp; E St NW</td>\n      <td>31620</td>\n      <td>5th &amp; F St NW</td>\n      <td>W20933</td>\n      <td>Member</td>\n    </tr>\n    <tr>\n      <th>13026</th>\n      <td>662</td>\n      <td>2013-01-04 19:33:44</td>\n      <td>2013-01-04 19:44:47</td>\n      <td>31237</td>\n      <td>25th St &amp; Pennsylvania Ave NW</td>\n      <td>31225</td>\n      <td>C &amp; O Canal &amp; Wisconsin Ave NW</td>\n      <td>W20140</td>\n      <td>Casual</td>\n    </tr>\n    <tr>\n      <th>13027</th>\n      <td>772</td>\n      <td>2013-01-04 19:34:24</td>\n      <td>2013-01-04 19:47:16</td>\n      <td>31621</td>\n      <td>4th &amp; D St NW / Judiciary Square</td>\n      <td>31231</td>\n      <td>14th &amp; D St NW / Ronald Reagan Building</td>\n      <td>W01026</td>\n      <td>Member</td>\n    </tr>\n    <tr>\n      <th>13028</th>\n      <td>356</td>\n      <td>2013-01-04 19:34:31</td>\n      <td>2013-01-04 19:40:27</td>\n      <td>31231</td>\n      <td>14th &amp; D St NW / Ronald Reagan Building</td>\n      <td>31228</td>\n      <td>8th &amp; H St NW</td>\n      <td>W00974</td>\n      <td>Member</td>\n    </tr>\n    <tr>\n      <th>13029</th>\n      <td>462</td>\n      <td>2013-01-04 19:34:47</td>\n      <td>2013-01-04 19:42:29</td>\n      <td>31241</td>\n      <td>Thomas Circle</td>\n      <td>31604</td>\n      <td>3rd &amp; H St NW</td>\n      <td>W20087</td>\n      <td>Member</td>\n    </tr>\n    <tr>\n      <th>13030</th>\n      <td>377</td>\n      <td>2013-01-04 19:34:59</td>\n      <td>2013-01-04 19:41:17</td>\n      <td>31301</td>\n      <td>Ward Circle / American University</td>\n      <td>31303</td>\n      <td>Tenleytown / Wisconsin Ave &amp; Albemarle St NW</td>\n      <td>W00937</td>\n      <td>Member</td>\n    </tr>\n    <tr>\n      <th>13031</th>\n      <td>205</td>\n      <td>2013-01-04 19:35:01</td>\n      <td>2013-01-04 19:38:26</td>\n      <td>31257</td>\n      <td>22nd &amp; I St NW / Foggy Bottom</td>\n      <td>31246</td>\n      <td>M St &amp; Pennsylvania Ave NW</td>\n      <td>W01482</td>\n      <td>Member</td>\n    </tr>\n    <tr>\n      <th>13032</th>\n      <td>216</td>\n      <td>2013-01-04 19:35:12</td>\n      <td>2013-01-04 19:38:49</td>\n      <td>31616</td>\n      <td>3rd &amp; H St NE</td>\n      <td>31603</td>\n      <td>1st &amp; M St NE</td>\n      <td>W00198</td>\n      <td>Member</td>\n    </tr>\n    <tr>\n      <th>13033</th>\n      <td>1398</td>\n      <td>2013-01-04 19:35:13</td>\n      <td>2013-01-04 19:58:31</td>\n      <td>31215</td>\n      <td>Georgetown Harbor / 30th St NW</td>\n      <td>31305</td>\n      <td>Connecticut Ave &amp; Newark St NW / Cleveland Park</td>\n      <td>W20928</td>\n      <td>Member</td>\n    </tr>\n    <tr>\n      <th>13034</th>\n      <td>444</td>\n      <td>2013-01-04 19:35:14</td>\n      <td>2013-01-04 19:42:38</td>\n      <td>31623</td>\n      <td>Columbus Circle / Union Station</td>\n      <td>31619</td>\n      <td>Lincoln Park / 13th &amp; East Capitol St NE</td>\n      <td>W00531</td>\n      <td>Member</td>\n    </tr>\n    <tr>\n      <th>13035</th>\n      <td>1173</td>\n      <td>2013-01-04 19:35:47</td>\n      <td>2013-01-04 19:55:21</td>\n      <td>31222</td>\n      <td>New York Ave &amp; 15th St NW</td>\n      <td>31628</td>\n      <td>1st &amp; K St SE</td>\n      <td>W00338</td>\n      <td>Member</td>\n    </tr>\n    <tr>\n      <th>13036</th>\n      <td>1366</td>\n      <td>2013-01-04 19:36:16</td>\n      <td>2013-01-04 19:59:02</td>\n      <td>31304</td>\n      <td>36th &amp; Calvert St NW / Glover Park</td>\n      <td>31506</td>\n      <td>1st &amp; Rhode Island Ave NW</td>\n      <td>W00643</td>\n      <td>Casual</td>\n    </tr>\n    <tr>\n      <th>13037</th>\n      <td>916</td>\n      <td>2013-01-04 19:36:55</td>\n      <td>2013-01-04 19:52:12</td>\n      <td>31508</td>\n      <td>Gallaudet / 8th St &amp; Florida Ave NE</td>\n      <td>31109</td>\n      <td>7th &amp; T St NW</td>\n      <td>W01295</td>\n      <td>Member</td>\n    </tr>\n    <tr>\n      <th>13038</th>\n      <td>624</td>\n      <td>2013-01-04 19:36:56</td>\n      <td>2013-01-04 19:47:20</td>\n      <td>31220</td>\n      <td>US Dept of State / Virginia Ave &amp; 21st St NW</td>\n      <td>31228</td>\n      <td>8th &amp; H St NW</td>\n      <td>W00733</td>\n      <td>Member</td>\n    </tr>\n    <tr>\n      <th>13039</th>\n      <td>290</td>\n      <td>2013-01-04 19:36:56</td>\n      <td>2013-01-04 19:41:47</td>\n      <td>31106</td>\n      <td>Calvert &amp; Biltmore St NW</td>\n      <td>31116</td>\n      <td>California St &amp; Florida Ave NW</td>\n      <td>W01178</td>\n      <td>Member</td>\n    </tr>\n    <tr>\n      <th>13040</th>\n      <td>395</td>\n      <td>2013-01-04 19:37:04</td>\n      <td>2013-01-04 19:43:39</td>\n      <td>31241</td>\n      <td>Thomas Circle</td>\n      <td>31110</td>\n      <td>20th St &amp; Florida Ave NW</td>\n      <td>W01029</td>\n      <td>Member</td>\n    </tr>\n    <tr>\n      <th>13041</th>\n      <td>6120</td>\n      <td>2013-01-04 19:37:27</td>\n      <td>2013-01-04 21:19:27</td>\n      <td>31107</td>\n      <td>Lamont &amp; Mt Pleasant NW</td>\n      <td>31102</td>\n      <td>11th &amp; Kenyon St NW</td>\n      <td>W01199</td>\n      <td>Member</td>\n    </tr>\n    <tr>\n      <th>13042</th>\n      <td>2124</td>\n      <td>2013-01-04 19:37:59</td>\n      <td>2013-01-04 20:13:24</td>\n      <td>31221</td>\n      <td>18th &amp; M St NW</td>\n      <td>31111</td>\n      <td>10th &amp; U St NW</td>\n      <td>W00183</td>\n      <td>Member</td>\n    </tr>\n    <tr>\n      <th>13043</th>\n      <td>422</td>\n      <td>2013-01-04 19:38:09</td>\n      <td>2013-01-04 19:45:12</td>\n      <td>31611</td>\n      <td>13th &amp; H St NE</td>\n      <td>31623</td>\n      <td>Columbus Circle / Union Station</td>\n      <td>W00699</td>\n      <td>Member</td>\n    </tr>\n    <tr>\n      <th>13044</th>\n      <td>518</td>\n      <td>2013-01-04 19:38:15</td>\n      <td>2013-01-04 19:46:54</td>\n      <td>31625</td>\n      <td>3rd &amp; G St SE</td>\n      <td>31623</td>\n      <td>Columbus Circle / Union Station</td>\n      <td>W00851</td>\n      <td>Member</td>\n    </tr>\n    <tr>\n      <th>13045</th>\n      <td>8664</td>\n      <td>2013-01-04 19:38:24</td>\n      <td>2013-01-04 22:02:49</td>\n      <td>31239</td>\n      <td>Rhode Island &amp; Connecticut Ave NW</td>\n      <td>31233</td>\n      <td>17th &amp; K St NW / Farragut Square</td>\n      <td>W20979</td>\n      <td>Member</td>\n    </tr>\n    <tr>\n      <th>13046</th>\n      <td>568</td>\n      <td>2013-01-04 19:38:47</td>\n      <td>2013-01-04 19:48:16</td>\n      <td>31109</td>\n      <td>7th &amp; T St NW</td>\n      <td>31241</td>\n      <td>Thomas Circle</td>\n      <td>W20169</td>\n      <td>Member</td>\n    </tr>\n    <tr>\n      <th>13047</th>\n      <td>1316</td>\n      <td>2013-01-04 19:39:01</td>\n      <td>2013-01-04 20:00:57</td>\n      <td>31400</td>\n      <td>Georgia &amp; New Hampshire Ave NW</td>\n      <td>31614</td>\n      <td>11th &amp; H St NE</td>\n      <td>W01369</td>\n      <td>Member</td>\n    </tr>\n    <tr>\n      <th>13048</th>\n      <td>573</td>\n      <td>2013-01-04 19:39:01</td>\n      <td>2013-01-04 19:48:35</td>\n      <td>31109</td>\n      <td>7th &amp; T St NW</td>\n      <td>31241</td>\n      <td>Thomas Circle</td>\n      <td>W20940</td>\n      <td>Member</td>\n    </tr>\n    <tr>\n      <th>13049</th>\n      <td>437</td>\n      <td>2013-01-04 19:39:23</td>\n      <td>2013-01-04 19:46:41</td>\n      <td>31201</td>\n      <td>15th &amp; P St NW</td>\n      <td>31234</td>\n      <td>20th &amp; O St NW / Dupont South</td>\n      <td>W01032</td>\n      <td>Member</td>\n    </tr>\n  </tbody>\n</table>\n</div>"
     },
     "metadata": {},
     "execution_count": 11
    }
   ],
   "source": [
    "df1[13000:13050]"
   ]
  },
  {
   "cell_type": "code",
   "execution_count": 2,
   "metadata": {},
   "outputs": [],
   "source": [
    "from data_preprocessing import decompress_pickle, compressed_pickle\n",
    "df5 = decompress_pickle(\"../data/preprocessed/BikeRental_complete.pbz2\")"
   ]
  },
  {
   "cell_type": "code",
   "execution_count": 3,
   "metadata": {},
   "outputs": [
    {
     "output_type": "stream",
     "name": "stdout",
     "text": [
      "<class 'pandas.core.frame.DataFrame'>\nRangeIndex: 17544 entries, 0 to 17543\nData columns (total 17 columns):\n #   Column      Non-Null Count  Dtype         \n---  ------      --------------  -----         \n 0   datetime    17544 non-null  datetime64[ns]\n 1   dteday      17544 non-null  object        \n 2   season      17544 non-null  float64       \n 3   yr          17544 non-null  float64       \n 4   mnth        17544 non-null  int64         \n 5   hr          17544 non-null  int64         \n 6   holiday     17544 non-null  float64       \n 7   weekday     17544 non-null  int64         \n 8   workingday  17544 non-null  float64       \n 9   weathersit  17544 non-null  float64       \n 10  temp        17544 non-null  float64       \n 11  atemp       17544 non-null  float64       \n 12  hum         17544 non-null  float64       \n 13  windspeed   17544 non-null  float64       \n 14  casual      17544 non-null  float64       \n 15  registered  17544 non-null  float64       \n 16  cnt         17544 non-null  float64       \ndtypes: datetime64[ns](1), float64(12), int64(3), object(1)\nmemory usage: 2.3+ MB\n"
     ]
    }
   ],
   "source": [
    "df5.info()\n"
   ]
  },
  {
   "cell_type": "code",
   "execution_count": 4,
   "metadata": {},
   "outputs": [
    {
     "output_type": "execute_result",
     "data": {
      "text/plain": [
       "389        1.0\n",
       "9244       1.0\n",
       "1924       1.0\n",
       "1922       1.0\n",
       "8187       1.0\n",
       "         ...  \n",
       "15209    967.0\n",
       "14850    968.0\n",
       "14873    970.0\n",
       "15089    976.0\n",
       "14898    977.0\n",
       "Name: cnt, Length: 17544, dtype: float64"
      ]
     },
     "metadata": {},
     "execution_count": 4
    }
   ],
   "source": [
    "df5['cnt'].sort_values()"
   ]
  },
  {
   "cell_type": "code",
   "execution_count": null,
   "metadata": {},
   "outputs": [],
   "source": []
  }
 ]
}