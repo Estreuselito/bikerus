{
 "metadata": {
  "language_info": {
   "codemirror_mode": {
    "name": "ipython",
    "version": 3
   },
   "file_extension": ".py",
   "mimetype": "text/x-python",
   "name": "python",
   "nbconvert_exporter": "python",
   "pygments_lexer": "ipython3",
   "version": "3.8.6-final"
  },
  "orig_nbformat": 2,
  "kernelspec": {
   "name": "python3",
   "display_name": "Python 3"
  }
 },
 "nbformat": 4,
 "nbformat_minor": 2,
 "cells": [
  {
   "cell_type": "code",
   "execution_count": 2,
   "metadata": {},
   "outputs": [],
   "source": [
    "from data_preprocessing import decompress_pickle, compressed_pickle\n",
    "import pandas as pd\n",
    "import os\n",
    "\n",
    "df = decompress_pickle(\"../data/interim/BikeRental.pbz2\")"
   ]
  },
  {
   "cell_type": "code",
   "execution_count": 3,
   "metadata": {},
   "outputs": [
    {
     "output_type": "stream",
     "name": "stdout",
     "text": [
      "<class 'pandas.core.frame.DataFrame'>\nRangeIndex: 17379 entries, 0 to 17378\nData columns (total 17 columns):\n #   Column      Non-Null Count  Dtype  \n---  ------      --------------  -----  \n 0   instant     17379 non-null  int64  \n 1   dteday      17379 non-null  object \n 2   season      17379 non-null  int64  \n 3   yr          17379 non-null  int64  \n 4   mnth        17379 non-null  int64  \n 5   hr          17379 non-null  int64  \n 6   holiday     17379 non-null  int64  \n 7   weekday     17379 non-null  int64  \n 8   workingday  17379 non-null  int64  \n 9   weathersit  17379 non-null  int64  \n 10  temp        17379 non-null  float64\n 11  atemp       17379 non-null  float64\n 12  hum         17379 non-null  float64\n 13  windspeed   17379 non-null  float64\n 14  casual      17379 non-null  int64  \n 15  registered  17379 non-null  int64  \n 16  cnt         17379 non-null  int64  \ndtypes: float64(4), int64(12), object(1)\nmemory usage: 2.3+ MB\n"
     ]
    }
   ],
   "source": [
    "df.info()"
   ]
  },
  {
   "cell_type": "code",
   "execution_count": null,
   "metadata": {},
   "outputs": [],
   "source": []
  }
 ]
}