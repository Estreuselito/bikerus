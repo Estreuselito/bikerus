{
 "metadata": {
  "language_info": {
   "codemirror_mode": {
    "name": "ipython",
    "version": 3
   },
   "file_extension": ".py",
   "mimetype": "text/x-python",
   "name": "python",
   "nbconvert_exporter": "python",
   "pygments_lexer": "ipython3",
   "version": "3.8.6-final"
  },
  "orig_nbformat": 2,
  "kernelspec": {
   "name": "Python 3.8.6 64-bit",
   "display_name": "Python 3.8.6 64-bit",
   "metadata": {
    "interpreter": {
     "hash": "4cd7ab41f5fca4b9b44701077e38c5ffd31fe66a6cab21e0214b68d958d0e462"
    }
   }
  }
 },
 "nbformat": 4,
 "nbformat_minor": 2,
 "cells": [
  {
   "cell_type": "code",
   "execution_count": 2,
   "metadata": {},
   "outputs": [],
   "source": [
    "from data_preprocessing import decompress_pickle, compressed_pickle\n",
    "import pandas as pd\n",
    "import os\n",
    "\n",
    "# load data\n",
    "df = decompress_pickle(\"../data/preprocessed/BikeRental_complete.pbz2\")"
   ]
  },
  {
   "source": [
    "from pandas_profiling import ProfileReport\n",
    "profile = ProfileReport(df, title='Bike Share Rental Pandas Profiling Report', explorative = True, dark_mode = True)\n",
    "profile.to_file(output_file='Bike Share Rental Pandas Profiling Report.html')"
   ],
   "cell_type": "markdown",
   "metadata": {}
  },
  {
   "cell_type": "code",
   "execution_count": 3,
   "metadata": {},
   "outputs": [
    {
     "output_type": "execute_result",
     "data": {
      "text/plain": [
       "             datetime      dteday  season   yr  mnth  hr  holiday  weekday  \\\n",
       "0 2011-01-01 00:00:00  2011-01-01     1.0  0.0     1   0      0.0        5   \n",
       "1 2011-01-01 01:00:00  2011-01-01     1.0  0.0     1   1      0.0        5   \n",
       "2 2011-01-01 02:00:00  2011-01-01     1.0  0.0     1   2      0.0        5   \n",
       "3 2011-01-01 03:00:00  2011-01-01     1.0  0.0     1   3      0.0        5   \n",
       "4 2011-01-01 04:00:00  2011-01-01     1.0  0.0     1   4      0.0        5   \n",
       "\n",
       "   workingday  weathersit  temp   atemp   hum  windspeed  casual  registered  \\\n",
       "0         0.0         1.0  0.24  0.2879  0.81        0.0     3.0        13.0   \n",
       "1         0.0         1.0  0.22  0.2727  0.80        0.0     8.0        32.0   \n",
       "2         0.0         1.0  0.22  0.2727  0.80        0.0     5.0        27.0   \n",
       "3         0.0         1.0  0.24  0.2879  0.75        0.0     3.0        10.0   \n",
       "4         0.0         1.0  0.24  0.2879  0.75        0.0     0.0         1.0   \n",
       "\n",
       "    cnt  \n",
       "0  16.0  \n",
       "1  40.0  \n",
       "2  32.0  \n",
       "3  13.0  \n",
       "4   1.0  "
      ],
      "text/html": "<div>\n<style scoped>\n    .dataframe tbody tr th:only-of-type {\n        vertical-align: middle;\n    }\n\n    .dataframe tbody tr th {\n        vertical-align: top;\n    }\n\n    .dataframe thead th {\n        text-align: right;\n    }\n</style>\n<table border=\"1\" class=\"dataframe\">\n  <thead>\n    <tr style=\"text-align: right;\">\n      <th></th>\n      <th>datetime</th>\n      <th>dteday</th>\n      <th>season</th>\n      <th>yr</th>\n      <th>mnth</th>\n      <th>hr</th>\n      <th>holiday</th>\n      <th>weekday</th>\n      <th>workingday</th>\n      <th>weathersit</th>\n      <th>temp</th>\n      <th>atemp</th>\n      <th>hum</th>\n      <th>windspeed</th>\n      <th>casual</th>\n      <th>registered</th>\n      <th>cnt</th>\n    </tr>\n  </thead>\n  <tbody>\n    <tr>\n      <th>0</th>\n      <td>2011-01-01 00:00:00</td>\n      <td>2011-01-01</td>\n      <td>1.0</td>\n      <td>0.0</td>\n      <td>1</td>\n      <td>0</td>\n      <td>0.0</td>\n      <td>5</td>\n      <td>0.0</td>\n      <td>1.0</td>\n      <td>0.24</td>\n      <td>0.2879</td>\n      <td>0.81</td>\n      <td>0.0</td>\n      <td>3.0</td>\n      <td>13.0</td>\n      <td>16.0</td>\n    </tr>\n    <tr>\n      <th>1</th>\n      <td>2011-01-01 01:00:00</td>\n      <td>2011-01-01</td>\n      <td>1.0</td>\n      <td>0.0</td>\n      <td>1</td>\n      <td>1</td>\n      <td>0.0</td>\n      <td>5</td>\n      <td>0.0</td>\n      <td>1.0</td>\n      <td>0.22</td>\n      <td>0.2727</td>\n      <td>0.80</td>\n      <td>0.0</td>\n      <td>8.0</td>\n      <td>32.0</td>\n      <td>40.0</td>\n    </tr>\n    <tr>\n      <th>2</th>\n      <td>2011-01-01 02:00:00</td>\n      <td>2011-01-01</td>\n      <td>1.0</td>\n      <td>0.0</td>\n      <td>1</td>\n      <td>2</td>\n      <td>0.0</td>\n      <td>5</td>\n      <td>0.0</td>\n      <td>1.0</td>\n      <td>0.22</td>\n      <td>0.2727</td>\n      <td>0.80</td>\n      <td>0.0</td>\n      <td>5.0</td>\n      <td>27.0</td>\n      <td>32.0</td>\n    </tr>\n    <tr>\n      <th>3</th>\n      <td>2011-01-01 03:00:00</td>\n      <td>2011-01-01</td>\n      <td>1.0</td>\n      <td>0.0</td>\n      <td>1</td>\n      <td>3</td>\n      <td>0.0</td>\n      <td>5</td>\n      <td>0.0</td>\n      <td>1.0</td>\n      <td>0.24</td>\n      <td>0.2879</td>\n      <td>0.75</td>\n      <td>0.0</td>\n      <td>3.0</td>\n      <td>10.0</td>\n      <td>13.0</td>\n    </tr>\n    <tr>\n      <th>4</th>\n      <td>2011-01-01 04:00:00</td>\n      <td>2011-01-01</td>\n      <td>1.0</td>\n      <td>0.0</td>\n      <td>1</td>\n      <td>4</td>\n      <td>0.0</td>\n      <td>5</td>\n      <td>0.0</td>\n      <td>1.0</td>\n      <td>0.24</td>\n      <td>0.2879</td>\n      <td>0.75</td>\n      <td>0.0</td>\n      <td>0.0</td>\n      <td>1.0</td>\n      <td>1.0</td>\n    </tr>\n  </tbody>\n</table>\n</div>"
     },
     "metadata": {},
     "execution_count": 3
    }
   ],
   "source": [
    "df.head()"
   ]
  },
  {
   "cell_type": "code",
   "execution_count": 4,
   "metadata": {},
   "outputs": [],
   "source": [
    "X = df.drop('cnt', axis = 1)\n",
    "X = X.drop('datetime', axis = 1)\n",
    "X = X.drop('dteday', axis = 1)\n",
    "X = X.drop('atemp', axis = 1)\n",
    "X = X.drop('casual', axis = 1)\n",
    "X = X.drop('registered', axis = 1)\n",
    "Y = df['cnt']\n"
   ]
  },
  {
   "cell_type": "code",
   "execution_count": 5,
   "metadata": {},
   "outputs": [
    {
     "output_type": "stream",
     "name": "stdout",
     "text": [
      "<class 'pandas.core.frame.DataFrame'>\nRangeIndex: 17544 entries, 0 to 17543\nData columns (total 11 columns):\n #   Column      Non-Null Count  Dtype  \n---  ------      --------------  -----  \n 0   season      17544 non-null  float64\n 1   yr          17544 non-null  float64\n 2   mnth        17544 non-null  int64  \n 3   hr          17544 non-null  int64  \n 4   holiday     17544 non-null  float64\n 5   weekday     17544 non-null  int64  \n 6   workingday  17544 non-null  float64\n 7   weathersit  17544 non-null  float64\n 8   temp        17544 non-null  float64\n 9   hum         17544 non-null  float64\n 10  windspeed   17544 non-null  float64\ndtypes: float64(8), int64(3)\nmemory usage: 1.5 MB\n"
     ]
    }
   ],
   "source": [
    "X.info()"
   ]
  },
  {
   "cell_type": "code",
   "execution_count": 4,
   "metadata": {},
   "outputs": [
    {
     "output_type": "stream",
     "name": "stdout",
     "text": [
      "(14035,)\n(3509,)\nY_train_mean = 187.66539347058855\nY_train_meandev = 459541132.40605336\nY_test_meandev = 116954039.11552408\n"
     ]
    }
   ],
   "source": [
    "from sklearn.model_selection import train_test_split\n",
    "X_train, X_test, Y_train, Y_test = train_test_split(X, Y, test_size = 0.2, random_state=0)\n",
    "print(Y_train.shape)\n",
    "print(Y_test.shape)\n",
    "\n",
    "Y_train_mean = Y_train.mean()\n",
    "print(\"Y_train_mean =\", Y_train_mean)\n",
    "Y_train_meandev = sum((Y_train-Y_train_mean)**2)\n",
    "print(\"Y_train_meandev =\", Y_train_meandev)\n",
    "Y_test_meandev = sum((Y_test-Y_train_mean)**2)\n",
    "print(\"Y_test_meandev =\", Y_test_meandev)"
   ]
  },
  {
   "cell_type": "code",
   "execution_count": 5,
   "metadata": {},
   "outputs": [],
   "source": [
    "# create report dataframe\n",
    "report = pd.DataFrame(columns=['Model','R2.Train','R2.Test'])"
   ]
  },
  {
   "cell_type": "code",
   "execution_count": 6,
   "metadata": {},
   "outputs": [
    {
     "output_type": "stream",
     "name": "stdout",
     "text": [
      "R2 = 0.39539911028544494\nPseudo-R2 = 0.37415314559831736\n"
     ]
    }
   ],
   "source": [
    "################\n",
    "#     OLS      #\n",
    "################\n",
    "\n",
    "from sklearn.linear_model import LinearRegression\n",
    "lm = LinearRegression()\n",
    "lm.fit(X_train, Y_train)\n",
    "Y_train_pred = lm.predict(X_train)\n",
    "Y_train_dev = sum((Y_train-Y_train_pred)**2)\n",
    "r2 = 1 - Y_train_dev/Y_train_meandev\n",
    "print(\"R2 =\", r2)\n",
    "Y_test_pred = lm.predict(X_test)\n",
    "Y_test_dev = sum((Y_test-Y_test_pred)**2)\n",
    "pseudor2 = 1 - Y_test_dev/Y_test_meandev\n",
    "print(\"Pseudo-R2 =\", pseudor2)"
   ]
  },
  {
   "cell_type": "code",
   "execution_count": 7,
   "metadata": {},
   "outputs": [
    {
     "output_type": "stream",
     "name": "stdout",
     "text": [
      "{'fit_intercept': True}\nR2 = 0.39539911028544494\nPseudo-R2 = 0.37415314559831736\n"
     ]
    }
   ],
   "source": [
    "# OLS with Cross Validation and Grid Search\n",
    "from sklearn.linear_model import LinearRegression\n",
    "lmCV = LinearRegression()\n",
    "from sklearn.model_selection import GridSearchCV\n",
    "param_grid = { \n",
    "    'fit_intercept':[True,False]\n",
    "}\n",
    "CV_olsmodel = GridSearchCV(estimator=lmCV, param_grid=param_grid, cv=10)\n",
    "CV_olsmodel.fit(X_train, Y_train)\n",
    "print(CV_olsmodel.best_params_)\n",
    "lmCV = lmCV.set_params(**CV_olsmodel.best_params_)\n",
    "lmCV.fit(X_train, Y_train)\n",
    "Y_train_pred = lmCV.predict(X_train)\n",
    "Y_train_dev = sum((Y_train-Y_train_pred)**2)\n",
    "r2 = 1 - Y_train_dev/Y_train_meandev\n",
    "print(\"R2 =\", r2)\n",
    "Y_test_pred = lmCV.predict(X_test)\n",
    "Y_test_dev = sum((Y_test-Y_test_pred)**2)\n",
    "pseudor2 = 1 - Y_test_dev/Y_test_meandev\n",
    "print(\"Pseudo-R2 =\", pseudor2)\n",
    "report.loc[len(report)] = ['OLS RegressionCV', r2, pseudor2]"
   ]
  },
  {
   "cell_type": "code",
   "execution_count": 8,
   "metadata": {},
   "outputs": [
    {
     "output_type": "stream",
     "name": "stdout",
     "text": [
      "R2 = 0.3953926999357552\nPseudo-R2 = 0.3740673042322795\n"
     ]
    }
   ],
   "source": [
    "####################\n",
    "# Ridge Regression #\n",
    "####################\n",
    "\n",
    "from sklearn.linear_model import Ridge\n",
    "ridgereg = Ridge(alpha=2)\n",
    "ridgereg.fit(X_train, Y_train)\n",
    "Y_train_pred = ridgereg.predict(X_train)\n",
    "Y_train_dev = sum((Y_train-Y_train_pred)**2)\n",
    "r2 = 1 - Y_train_dev/Y_train_meandev\n",
    "print(\"R2 =\", r2)\n",
    "Y_test_pred = ridgereg.predict(X_test)\n",
    "Y_test_dev = sum((Y_test-Y_test_pred)**2)\n",
    "pseudor2 = 1 - Y_test_dev/Y_test_meandev\n",
    "print(\"Pseudo-R2 =\", pseudor2)\n"
   ]
  },
  {
   "cell_type": "code",
   "execution_count": 9,
   "metadata": {},
   "outputs": [
    {
     "output_type": "stream",
     "name": "stdout",
     "text": [
      "{'alpha': 4}\nR2 = 0.39538130975935437\nPseudo-R2 = 0.3740112920777431\n"
     ]
    }
   ],
   "source": [
    "# find best lambda (alphas)\n",
    "from sklearn.linear_model import Ridge\n",
    "ridgeregCV = Ridge()\n",
    "from sklearn.model_selection import GridSearchCV\n",
    "param_grid = { \n",
    "    'alpha': [25,10,4,2,1.0,0.8,0.5,0.3,0.2,0.1,0.05,0.02,0.01]\n",
    "}\n",
    "CV_rrmodel = GridSearchCV(estimator=ridgeregCV, param_grid=param_grid, cv=10)\n",
    "CV_rrmodel.fit(X_train, Y_train)\n",
    "print(CV_rrmodel.best_params_)\n",
    "ridgeregCV = ridgeregCV.set_params(**CV_rrmodel.best_params_)\n",
    "ridgeregCV.fit(X_train, Y_train)\n",
    "Y_train_pred = ridgeregCV.predict(X_train)\n",
    "Y_train_dev = sum((Y_train-Y_train_pred)**2)\n",
    "r2 = 1 - Y_train_dev/Y_train_meandev\n",
    "print(\"R2 =\", r2)\n",
    "Y_test_pred = ridgeregCV.predict(X_test)\n",
    "Y_test_dev = sum((Y_test-Y_test_pred)**2)\n",
    "pseudor2 = 1 - Y_test_dev/Y_test_meandev\n",
    "print(\"Pseudo-R2 =\", pseudor2)\n",
    "report.loc[len(report)] = ['Ridge RegressionCV', r2, pseudor2]"
   ]
  },
  {
   "cell_type": "code",
   "execution_count": 10,
   "metadata": {},
   "outputs": [
    {
     "output_type": "stream",
     "name": "stdout",
     "text": [
      "R2 = 0.3348198024722674\n",
      "Pseudo-R2 = 0.3161655253172436\n"
     ]
    }
   ],
   "source": [
    "#############################\n",
    "# Support Vector Regression #\n",
    "#############################\n",
    "\n",
    "# linear kernel\n",
    "from sklearn.svm import SVR\n",
    "LinSVRreg = SVR(kernel='linear', C=1.0, epsilon=0.1)\n",
    "LinSVRreg.fit(X_train, Y_train)\n",
    "Y_train_pred = LinSVRreg.predict(X_train)\n",
    "Y_train_dev = sum((Y_train-Y_train_pred)**2)\n",
    "r2 = 1 - Y_train_dev/Y_train_meandev\n",
    "print(\"R2 =\", r2)\n",
    "Y_test_pred = LinSVRreg.predict(X_test)\n",
    "Y_test_dev = sum((Y_test-Y_test_pred)**2)\n",
    "pseudor2 = 1 - Y_test_dev/Y_test_meandev\n",
    "print(\"Pseudo-R2 =\", pseudor2)\n",
    "report.loc[len(report)] = ['Support Vector RegressionCV', r2, pseudor2]"
   ]
  },
  {
   "cell_type": "code",
   "execution_count": 11,
   "metadata": {},
   "outputs": [
    {
     "output_type": "stream",
     "name": "stdout",
     "text": [
      "R2 = 0.37590399316454004\n",
      "Pseudo-R2 = 0.36661602016013906\n"
     ]
    }
   ],
   "source": [
    "# radial kernel\n",
    "RbfSVRreg = SVR(kernel='rbf', C=1.0, epsilon=0.1)\n",
    "RbfSVRreg.fit(X_train, Y_train)\n",
    "Y_train_pred = RbfSVRreg.predict(X_train)\n",
    "Y_train_dev = sum((Y_train-Y_train_pred)**2)\n",
    "r2 = 1 - Y_train_dev/Y_train_meandev\n",
    "print(\"R2 =\", r2)\n",
    "Y_test_pred = RbfSVRreg.predict(X_test)\n",
    "Y_test_dev = sum((Y_test-Y_test_pred)**2)\n",
    "pseudor2 = 1 - Y_test_dev/Y_test_meandev\n",
    "print(\"Pseudo-R2 =\", pseudor2)\n",
    "report.loc[len(report)] = ['Support Vector RegressionCV', r2, pseudor2]"
   ]
  },
  {
   "source": [
    "from sklearn.svm import SVR\n",
    "RbfSVRregCV = SVR()\n",
    "from sklearn.model_selection import GridSearchCV\n",
    "param_grid = { \n",
    "    'kernel': [\"linear\", \"rbf\"], \n",
    "    'C': [1, 3, 5, 8, 10],\n",
    "    'epsilon': [0.0, 0.025, 0.05, 0.075, 0.1],\n",
    "    'gamma' : [0., 1., 2., 3., 4.]\n",
    "}\n",
    "CV_svrmodel = GridSearchCV(estimator=RbfSVRregCV, param_grid=param_grid, cv=10)\n",
    "CV_svrmodel.fit(X_train, Y_train)\n",
    "print(CV_svrmodel.best_params_)\n",
    "RbfSVRregCV = RbfSVRregCV.set_params(**CV_svrmodel.best_params_)\n",
    "RbfSVRregCV.fit(X_train, Y_train)\n",
    "Y_train_pred = RbfSVRregCV.predict(X_train)\n",
    "Y_train_dev = sum((Y_train-Y_train_pred)**2)\n",
    "r2 = 1 - Y_train_dev/Y_train_meandev\n",
    "print(\"R2 =\", r2)\n",
    "Y_test_pred = RbfSVRregCV.predict(X_test)\n",
    "Y_test_dev = sum((Y_test-Y_test_pred)**2)\n",
    "pseudor2 = 1 - Y_test_dev/Y_test_meandev\n",
    "print(\"Pseudo-R2 =\", pseudor2)\n",
    "report.loc[len(report)] = ['Support Vector RegressionCV', r2, pseudor2]"
   ],
   "cell_type": "code",
   "metadata": {},
   "execution_count": null,
   "outputs": []
  },
  {
   "cell_type": "code",
   "execution_count": 12,
   "metadata": {},
   "outputs": [
    {
     "output_type": "stream",
     "name": "stdout",
     "text": [
      "R2 = 0.6012772568644993\nPseudo-R2 = 0.5904027414646491\n"
     ]
    }
   ],
   "source": [
    "##################\n",
    "# Neural Network #\n",
    "##################\n",
    "\n",
    "from sklearn.neural_network import MLPRegressor\n",
    "NNetRreg = MLPRegressor(solver='lbfgs', max_iter=10000, hidden_layer_sizes=(10,), random_state=0)\n",
    "NNetRreg.fit(X_train, Y_train)\n",
    "Y_train_pred = NNetRreg.predict(X_train)\n",
    "Y_train_dev = sum((Y_train-Y_train_pred)**2)\n",
    "r2 = 1 - Y_train_dev/Y_train_meandev\n",
    "print(\"R2 =\", r2)\n",
    "Y_test_pred = NNetRreg.predict(X_test)\n",
    "Y_test_dev = sum((Y_test-Y_test_pred)**2)\n",
    "pseudor2 = 1 - Y_test_dev/Y_test_meandev\n",
    "print(\"Pseudo-R2 =\", pseudor2)\n",
    "report.loc[len(report)] = ['Neural NetworkCV', r2, pseudor2]"
   ]
  },
  {
   "source": [
    "from sklearn.neural_network import MLPRegressor\n",
    "NNetRregCV = MLPRegressor(solver='lbfgs', max_iter=10000, random_state=0)\n",
    "from sklearn.model_selection import GridSearchCV\n",
    "param_grid = { \n",
    "    'learning_rate': [\"constant\", \"invscaling\", \"adaptive\"],\n",
    "    'hidden_layer_sizes': [(5,), (8,), (10,), (13,)],\n",
    "    'alpha': [0.0, 0.0025, 0.005, 0.0075, 0.01, 0.1],\n",
    "    'activation': [\"logistic\", \"relu\", \"tanh\"]\n",
    "}\n",
    "CV_nnmodel = GridSearchCV(estimator=NNetRregCV, param_grid=param_grid, cv=10)\n",
    "CV_nnmodel.fit(X_train, Y_train)\n",
    "print(CV_nnmodel.best_params_)\n",
    "NNetRregCV = NNetRregCV.set_params(**CV_nnmodel.best_params_)\n",
    "NNetRregCV.fit(X_train, Y_train)\n",
    "Y_train_pred = NNetRregCV.predict(X_train)\n",
    "Y_train_dev = sum((Y_train-Y_train_pred)**2)\n",
    "r2 = 1 - Y_train_dev/Y_train_meandev\n",
    "print(\"R2 =\", r2)\n",
    "Y_test_pred = NNetRregCV.predict(X_test)\n",
    "Y_test_dev = sum((Y_test-Y_test_pred)**2)\n",
    "pseudor2 = 1 - Y_test_dev/Y_test_meandev\n",
    "print(\"Pseudo-R2 =\", pseudor2)\n",
    "report.loc[len(report)] = ['Neural NetworkCV', r2, pseudor2]"
   ],
   "cell_type": "code",
   "metadata": {},
   "execution_count": null,
   "outputs": []
  },
  {
   "cell_type": "code",
   "execution_count": 13,
   "metadata": {},
   "outputs": [
    {
     "output_type": "stream",
     "name": "stdout",
     "text": [
      "R2 = 0.9923312933120023\n",
      "Pseudo-R2 = 0.9462067532219269\n"
     ]
    }
   ],
   "source": [
    "#################\n",
    "# Random Forest #\n",
    "#################\n",
    "\n",
    "from sklearn.ensemble import RandomForestRegressor\n",
    "RForreg = RandomForestRegressor(n_estimators=500, random_state=0)\n",
    "RForreg.fit(X_train, Y_train)\n",
    "Y_train_pred = RForreg.predict(X_train)\n",
    "Y_train_dev = sum((Y_train-Y_train_pred)**2)\n",
    "r2 = 1 - Y_train_dev/Y_train_meandev\n",
    "print(\"R2 =\", r2)\n",
    "Y_test_pred = RForreg.predict(X_test)\n",
    "Y_test_dev = sum((Y_test-Y_test_pred)**2)\n",
    "pseudor2 = 1 - Y_test_dev/Y_test_meandev\n",
    "print(\"Pseudo-R2 =\", pseudor2)\n",
    "report.loc[len(report)] = ['Random ForestCV', r2, pseudor2]"
   ]
  },
  {
   "cell_type": "code",
   "execution_count": null,
   "metadata": {},
   "outputs": [],
   "source": [
    "from sklearn.ensemble import RandomForestRegressor\n",
    "RForregCV = RandomForestRegressor(random_state=0)\n",
    "from sklearn.model_selection import GridSearchCV\n",
    "param_grid = { \n",
    "    'max_depth': [ 4.,  5.,  6.,  7.,  8.],\n",
    "    'n_estimators': [ 10,  50,  100, 150, 200]\n",
    "}\n",
    "CV_rfmodel = GridSearchCV(estimator=RForregCV, param_grid=param_grid, cv=10)\n",
    "CV_rfmodel.fit(X_train, Y_train)\n",
    "print(CV_rfmodel.best_params_)\n",
    "RForregCV = RForregCV.set_params(**CV_rfmodel.best_params_)\n",
    "RForregCV.fit(X_train, Y_train)\n",
    "Y_train_pred = RForregCV.predict(X_train)\n",
    "Y_train_dev = sum((Y_train-Y_train_pred)**2)\n",
    "r2 = 1 - Y_train_dev/Y_train_meandev\n",
    "print(\"R2 =\", r2)\n",
    "Y_test_pred = RForregCV.predict(X_test)\n",
    "Y_test_dev = sum((Y_test-Y_test_pred)**2)\n",
    "pseudor2 = 1 - Y_test_dev/Y_test_meandev\n",
    "print(\"Pseudo-R2 =\", pseudor2)\n",
    "report.loc[len(report)] = ['Random ForestCV', r2, pseudor2]\n"
   ]
  },
  {
   "cell_type": "code",
   "execution_count": 14,
   "metadata": {},
   "outputs": [
    {
     "output_type": "stream",
     "name": "stdout",
     "text": [
      "R2 = 0.8687685377379561\nPseudo-R2 = 0.8623706591614005\n"
     ]
    }
   ],
   "source": [
    "#####################\n",
    "# Gradient Boosting #\n",
    "#####################\n",
    "\n",
    "from sklearn.ensemble import GradientBoostingRegressor\n",
    "GBoostreg = GradientBoostingRegressor(random_state=0)\n",
    "GBoostreg.fit(X_train, Y_train)\n",
    "Y_train_pred = GBoostreg.predict(X_train)\n",
    "Y_train_dev = sum((Y_train-Y_train_pred)**2)\n",
    "r2 = 1 - Y_train_dev/Y_train_meandev\n",
    "print(\"R2 =\", r2)\n",
    "Y_test_pred = GBoostreg.predict(X_test)\n",
    "Y_test_dev = sum((Y_test-Y_test_pred)**2)\n",
    "pseudor2 = 1 - Y_test_dev/Y_test_meandev\n",
    "print(\"Pseudo-R2 =\", pseudor2)\n",
    "report.loc[len(report)] = ['Gradient BoostingCV', r2, pseudor2]"
   ]
  },
  {
   "cell_type": "code",
   "execution_count": null,
   "metadata": {},
   "outputs": [],
   "source": [
    "from sklearn.ensemble import GradientBoostingRegressor\n",
    "GBoostregCV = GradientBoostingRegressor(random_state=0)\n",
    "from sklearn.model_selection import GridSearchCV\n",
    "param_grid = { \n",
    "    'max_depth': [ 3., 4., 5.],\n",
    "    'subsample': [0.7, 0.8, 0.9],\n",
    "    'n_estimators': [50, 100,150],\n",
    "    'learning_rate': [0.1, 0.2, 0.3]\n",
    "}\n",
    "CV_gbmodel = GridSearchCV(estimator=GBoostregCV, param_grid=param_grid, cv=10)\n",
    "CV_gbmodel.fit(X_train, Y_train)\n",
    "print(CV_gbmodel.best_params_)\n",
    "GBoostregCV = GBoostregCV.set_params(**CV_gbmodel.best_params_)\n",
    "GBoostregCV.fit(X_train, Y_train)\n",
    "Y_train_pred = GBoostregCV.predict(X_train)\n",
    "Y_train_dev = sum((Y_train-Y_train_pred)**2)\n",
    "r2 = 1 - Y_train_dev/Y_train_meandev\n",
    "print(\"R2 =\", r2)\n",
    "Y_test_pred = GBoostregCV.predict(X_test)\n",
    "Y_test_dev = sum((Y_test-Y_test_pred)**2)\n",
    "pseudor2 = 1 - Y_test_dev/Y_test_meandev\n",
    "print(\"Pseudo-R2 =\", pseudor2)\n",
    "report.loc[len(report)] = ['Gradient BoostingCV', r2, pseudor2]"
   ]
  },
  {
   "cell_type": "code",
   "execution_count": 15,
   "metadata": {},
   "outputs": [
    {
     "output_type": "stream",
     "name": "stdout",
     "text": [
      "                         Model  R2.Train   R2.Test\n0             OLS RegressionCV  0.395399  0.374153\n1           Ridge RegressionCV  0.395381  0.374011\n2  Support Vector RegressionCV  0.334820  0.316166\n3  Support Vector RegressionCV  0.375904  0.366616\n4             Neural NetworkCV  0.601277  0.590403\n5              Random ForestCV  0.992331  0.946207\n6          Gradient BoostingCV  0.868769  0.862371\n"
     ]
    }
   ],
   "source": [
    "################\n",
    "# Final Report #\n",
    "################\n",
    "\n",
    "print(report)"
   ]
  },
  {
   "cell_type": "code",
   "execution_count": null,
   "metadata": {},
   "outputs": [],
   "source": []
  }
 ]
}