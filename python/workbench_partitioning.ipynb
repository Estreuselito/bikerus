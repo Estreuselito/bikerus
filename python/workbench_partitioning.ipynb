{
 "metadata": {
  "language_info": {
   "codemirror_mode": {
    "name": "ipython",
    "version": 3
   },
   "file_extension": ".py",
   "mimetype": "text/x-python",
   "name": "python",
   "nbconvert_exporter": "python",
   "pygments_lexer": "ipython3",
   "version": "3.8.6-final"
  },
  "orig_nbformat": 2,
  "kernelspec": {
   "name": "python3",
   "display_name": "Python 3"
  }
 },
 "nbformat": 4,
 "nbformat_minor": 2,
 "cells": [
  {
   "cell_type": "code",
   "execution_count": 2,
   "metadata": {},
   "outputs": [],
   "source": [
    "from data_preprocessing import decompress_pickle, compressed_pickle\n",
    "import pandas as pd\n",
    "import numpy as np\n",
    "from catboost import CatBoostRegressor\n",
    "from sklearn.model_selection import train_test_split\n",
    "import ipywidgets\n",
    "    \n",
    "Y_train = decompress_pickle(\"../data/partitioned/BikeRental_Y_train.pbz2\")\n",
    "Y_test = decompress_pickle(\"../data/partitioned/BikeRental_Y_test.pbz2\")\n",
    "X_train = decompress_pickle(\"../data/partitioned/BikeRental_X_train.pbz2\")\n",
    "X_test = decompress_pickle(\"../data/partitioned/BikeRental_X_test.pbz2\")"
   ]
  },
  {
   "cell_type": "code",
   "execution_count": 7,
   "metadata": {},
   "outputs": [
    {
     "output_type": "execute_result",
     "data": {
      "text/plain": [
       "14035   2012-08-07 19:00:00\n",
       "14036   2012-08-07 20:00:00\n",
       "14037   2012-08-07 21:00:00\n",
       "14038   2012-08-07 22:00:00\n",
       "14039   2012-08-07 23:00:00\n",
       "                ...        \n",
       "17539   2012-12-31 19:00:00\n",
       "17540   2012-12-31 20:00:00\n",
       "17541   2012-12-31 21:00:00\n",
       "17542   2012-12-31 22:00:00\n",
       "17543   2012-12-31 23:00:00\n",
       "Name: datetime, Length: 3509, dtype: datetime64[ns]"
      ]
     },
     "metadata": {},
     "execution_count": 7
    }
   ],
   "source": [
    "X_test['datetime']"
   ]
  },
  {
   "cell_type": "code",
   "execution_count": 5,
   "metadata": {},
   "outputs": [],
   "source": [
    "cat_var = [\"season\", \"yr\", \"mnth\", \"hr\", \"holiday\", \"weekday\", \"workingday\", \"weathersit\"]\n",
    "for v in cat_var:\n",
    "    X_train[v] = X_train[v].astype(\"int64\")"
   ]
  },
  {
   "cell_type": "code",
   "execution_count": 6,
   "metadata": {},
   "outputs": [
    {
     "output_type": "stream",
     "name": "stdout",
     "text": [
      "<class 'pandas.core.frame.DataFrame'>\nRangeIndex: 14035 entries, 0 to 14034\nData columns (total 12 columns):\n #   Column      Non-Null Count  Dtype         \n---  ------      --------------  -----         \n 0   datetime    14035 non-null  datetime64[ns]\n 1   season      14035 non-null  int64         \n 2   yr          14035 non-null  int64         \n 3   mnth        14035 non-null  int64         \n 4   hr          14035 non-null  int64         \n 5   holiday     14035 non-null  int64         \n 6   weekday     14035 non-null  int64         \n 7   workingday  14035 non-null  int64         \n 8   weathersit  14035 non-null  int64         \n 9   temp        14035 non-null  float64       \n 10  hum         14035 non-null  float64       \n 11  windspeed   14035 non-null  float64       \ndtypes: datetime64[ns](1), float64(3), int64(8)\nmemory usage: 1.3 MB\n"
     ]
    }
   ],
   "source": [
    "X_train.info()"
   ]
  },
  {
   "cell_type": "code",
   "execution_count": null,
   "metadata": {},
   "outputs": [],
   "source": []
  }
 ]
}