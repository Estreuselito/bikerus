{
 "cells": [
  {
   "cell_type": "code",
   "execution_count": 3,
   "metadata": {},
   "outputs": [],
   "source": [
    "import pandas as pd\n",
    "import numpy as np\n",
    "from data_preprocessing import compressed_pickle, decompress_pickle\n",
    "from fastai.tabular.all import *\n",
    "import os"
   ]
  },
  {
   "cell_type": "code",
   "execution_count": 2,
   "metadata": {
    "scrolled": true
   },
   "outputs": [
    {
     "data": {
      "text/html": [
       "<div>\n",
       "<style scoped>\n",
       "    .dataframe tbody tr th:only-of-type {\n",
       "        vertical-align: middle;\n",
       "    }\n",
       "\n",
       "    .dataframe tbody tr th {\n",
       "        vertical-align: top;\n",
       "    }\n",
       "\n",
       "    .dataframe thead th {\n",
       "        text-align: right;\n",
       "    }\n",
       "</style>\n",
       "<table border=\"1\" class=\"dataframe\">\n",
       "  <thead>\n",
       "    <tr style=\"text-align: right;\">\n",
       "      <th></th>\n",
       "      <th>datetime</th>\n",
       "      <th>season</th>\n",
       "      <th>yr</th>\n",
       "      <th>mnth</th>\n",
       "      <th>hr</th>\n",
       "      <th>holiday</th>\n",
       "      <th>weekday</th>\n",
       "      <th>workingday</th>\n",
       "      <th>weathersit</th>\n",
       "      <th>temp</th>\n",
       "      <th>hum</th>\n",
       "      <th>windspeed</th>\n",
       "      <th>cnt</th>\n",
       "    </tr>\n",
       "  </thead>\n",
       "  <tbody>\n",
       "    <tr>\n",
       "      <th>0</th>\n",
       "      <td>2011-01-01 00:00:00</td>\n",
       "      <td>1.0</td>\n",
       "      <td>0.0</td>\n",
       "      <td>1</td>\n",
       "      <td>0</td>\n",
       "      <td>0.0</td>\n",
       "      <td>5</td>\n",
       "      <td>0.0</td>\n",
       "      <td>1.0</td>\n",
       "      <td>0.224490</td>\n",
       "      <td>0.81</td>\n",
       "      <td>0.0</td>\n",
       "      <td>0.015369</td>\n",
       "    </tr>\n",
       "    <tr>\n",
       "      <th>1</th>\n",
       "      <td>2011-01-01 01:00:00</td>\n",
       "      <td>1.0</td>\n",
       "      <td>0.0</td>\n",
       "      <td>1</td>\n",
       "      <td>1</td>\n",
       "      <td>0.0</td>\n",
       "      <td>5</td>\n",
       "      <td>0.0</td>\n",
       "      <td>1.0</td>\n",
       "      <td>0.204082</td>\n",
       "      <td>0.80</td>\n",
       "      <td>0.0</td>\n",
       "      <td>0.039959</td>\n",
       "    </tr>\n",
       "    <tr>\n",
       "      <th>2</th>\n",
       "      <td>2011-01-01 02:00:00</td>\n",
       "      <td>1.0</td>\n",
       "      <td>0.0</td>\n",
       "      <td>1</td>\n",
       "      <td>2</td>\n",
       "      <td>0.0</td>\n",
       "      <td>5</td>\n",
       "      <td>0.0</td>\n",
       "      <td>1.0</td>\n",
       "      <td>0.204082</td>\n",
       "      <td>0.80</td>\n",
       "      <td>0.0</td>\n",
       "      <td>0.031762</td>\n",
       "    </tr>\n",
       "    <tr>\n",
       "      <th>3</th>\n",
       "      <td>2011-01-01 03:00:00</td>\n",
       "      <td>1.0</td>\n",
       "      <td>0.0</td>\n",
       "      <td>1</td>\n",
       "      <td>3</td>\n",
       "      <td>0.0</td>\n",
       "      <td>5</td>\n",
       "      <td>0.0</td>\n",
       "      <td>1.0</td>\n",
       "      <td>0.224490</td>\n",
       "      <td>0.75</td>\n",
       "      <td>0.0</td>\n",
       "      <td>0.012295</td>\n",
       "    </tr>\n",
       "    <tr>\n",
       "      <th>4</th>\n",
       "      <td>2011-01-01 04:00:00</td>\n",
       "      <td>1.0</td>\n",
       "      <td>0.0</td>\n",
       "      <td>1</td>\n",
       "      <td>4</td>\n",
       "      <td>0.0</td>\n",
       "      <td>5</td>\n",
       "      <td>0.0</td>\n",
       "      <td>1.0</td>\n",
       "      <td>0.224490</td>\n",
       "      <td>0.75</td>\n",
       "      <td>0.0</td>\n",
       "      <td>0.000000</td>\n",
       "    </tr>\n",
       "  </tbody>\n",
       "</table>\n",
       "</div>"
      ],
      "text/plain": [
       "              datetime  season   yr  mnth  hr  holiday  weekday  workingday  \\\n",
       "0  2011-01-01 00:00:00     1.0  0.0     1   0      0.0        5         0.0   \n",
       "1  2011-01-01 01:00:00     1.0  0.0     1   1      0.0        5         0.0   \n",
       "2  2011-01-01 02:00:00     1.0  0.0     1   2      0.0        5         0.0   \n",
       "3  2011-01-01 03:00:00     1.0  0.0     1   3      0.0        5         0.0   \n",
       "4  2011-01-01 04:00:00     1.0  0.0     1   4      0.0        5         0.0   \n",
       "\n",
       "   weathersit      temp   hum  windspeed       cnt  \n",
       "0         1.0  0.224490  0.81        0.0  0.015369  \n",
       "1         1.0  0.204082  0.80        0.0  0.039959  \n",
       "2         1.0  0.204082  0.80        0.0  0.031762  \n",
       "3         1.0  0.224490  0.75        0.0  0.012295  \n",
       "4         1.0  0.224490  0.75        0.0  0.000000  "
      ]
     },
     "execution_count": 2,
     "metadata": {},
     "output_type": "execute_result"
    }
   ],
   "source": [
    "path = \"../data/preprocessed/BikeRental_preprocessed.csv\"\n",
    "df = pd.read_csv(\"../data/preprocessed/BikeRental_preprocessed.csv\", index_col=[0])\n",
    "min_max = pd.read_csv(\"../data/preprocessed/cnt_min_max.csv\")\n",
    "df.head()"
   ]
  },
  {
   "cell_type": "code",
   "execution_count": 3,
   "metadata": {},
   "outputs": [],
   "source": [
    "cat_names = ['season', 'yr', 'weathersit', \"workingday\", \"holiday\"]\n",
    "cont_names = ['mnth', 'hr', 'weekday', 'temp', \"windspeed\", \"hum\"]\n",
    "procs = [Categorify]"
   ]
  },
  {
   "cell_type": "code",
   "execution_count": 4,
   "metadata": {},
   "outputs": [],
   "source": [
    "dls = TabularDataLoaders.from_df(df, path, procs=procs, cat_names=cat_names, cont_names=cont_names, \n",
    "                                 y_names=\"cnt\", bs=64)"
   ]
  },
  {
   "cell_type": "code",
   "execution_count": 5,
   "metadata": {},
   "outputs": [],
   "source": [
    "split = 0.8\n",
    "splits = (list(range(0,round(len(df)*split))),list(range(round(len(df)*split), len(df))))"
   ]
  },
  {
   "cell_type": "code",
   "execution_count": 6,
   "metadata": {},
   "outputs": [],
   "source": [
    "to = TabularPandas(df, procs=[Categorify],\n",
    "                   cat_names = cat_names,\n",
    "                   cont_names = cont_names,\n",
    "                   y_names='cnt',\n",
    "                   splits=splits)"
   ]
  },
  {
   "cell_type": "code",
   "execution_count": 7,
   "metadata": {},
   "outputs": [],
   "source": [
    "dls = to.dataloaders(bs=64)"
   ]
  },
  {
   "cell_type": "code",
   "execution_count": 26,
   "metadata": {},
   "outputs": [],
   "source": [
    "learn = tabular_learner(dls,\n",
    "                        metrics=[R2Score(), ExplainedVariance()],\n",
    "                       layers=[500,250])"
   ]
  },
  {
   "cell_type": "code",
   "execution_count": 27,
   "metadata": {},
   "outputs": [
    {
     "data": {
      "text/html": [],
      "text/plain": [
       "<IPython.core.display.HTML object>"
      ]
     },
     "metadata": {},
     "output_type": "display_data"
    },
    {
     "data": {
      "text/plain": [
       "SuggestedLRs(lr_min=0.0007585775572806596, lr_steep=0.00013182566908653826)"
      ]
     },
     "execution_count": 27,
     "metadata": {},
     "output_type": "execute_result"
    },
    {
     "data": {
      "image/png": "[encoded data removed]",
      "text/plain": [
       "<Figure size 432x288 with 1 Axes>"
      ]
     },
     "metadata": {
      "needs_background": "light"
     },
     "output_type": "display_data"
    }
   ],
   "source": [
    "learn.lr_find()"
   ]
  },
  {
   "cell_type": "code",
   "execution_count": 17,
   "metadata": {},
   "outputs": [
    {
     "name": "stdout",
     "output_type": "stream",
     "text": [
      "Model loaded!\n"
     ]
    }
   ],
   "source": [
    "try:\n",
    "    learn.load('/fastai/fastai_learner')\n",
    "    print(\"Model loaded!\")\n",
    "except FileNotFoundError:\n",
    "    learn.fit_one_cycle(50)\n",
    "    if not os.path.exists(\"/fastai\"):\n",
    "        os.makedirs(\"/fastai\")\n",
    "    learn.save('/fastai/fastai_learner')\n",
    "    print(\"Model trained and saved!\")"
   ]
  },
  {
   "cell_type": "code",
   "execution_count": 71,
   "metadata": {},
   "outputs": [
    {
     "data": {
      "text/html": [],
      "text/plain": [
       "<IPython.core.display.HTML object>"
      ]
     },
     "metadata": {},
     "output_type": "display_data"
    },
    {
     "name": "stdout",
     "output_type": "stream",
     "text": [
      "R2 = 0.9069887088056688\n"
     ]
    }
   ],
   "source": [
    "train_df = df[:round(len(df)*0.8)].copy()\n",
    "train_df.rename(columns={\"cnt\":\"cnt_real\"})\n",
    "dl = learn.dls.test_dl(train_df)\n",
    "y_train_preds = learn.get_preds(dl=dl)\n",
    "y_train_preds = [y_train_preds[0][i].item() for i in range(0, len(y_train_preds[0]))]\n",
    "Y_train_mean = train_df[\"cnt\"].values.mean()\n",
    "Y_train_meandev = sum((train_df[\"cnt\"].values-Y_train_mean)**2)\n",
    "Y_train_dev = sum((train_df[\"cnt\"].values-y_train_preds)**2)\n",
    "r2 = 1 - Y_train_dev/Y_train_meandev\n",
    "print(\"R2 =\", r2)"
   ]
  },
  {
   "cell_type": "code",
   "execution_count": 72,
   "metadata": {},
   "outputs": [
    {
     "data": {
      "text/html": [],
      "text/plain": [
       "<IPython.core.display.HTML object>"
      ]
     },
     "metadata": {},
     "output_type": "display_data"
    },
    {
     "name": "stdout",
     "output_type": "stream",
     "text": [
      "Pseudo-R2 = 0.8134570661152176\n"
     ]
    }
   ],
   "source": [
    "test_df = df[round(len(df)*0.8):].copy()\n",
    "test_df.rename(columns={\"cnt\":\"cnt_real\"})\n",
    "dl = learn.dls.test_dl(test_df)\n",
    "y_test_preds = learn.get_preds(dl=dl)\n",
    "y_test_preds = [y_test_preds[0][i].item() for i in range(0, len(y_test_preds[0]))]\n",
    "Y_test_dev = sum((test_df[\"cnt\"].values-y_test_preds)**2)\n",
    "Y_test_mean = test_df[\"cnt\"].values.mean()\n",
    "Y_test_meandev = sum((test_df[\"cnt\"].values-Y_test_mean)**2)\n",
    "pseudor2 = 1 - Y_test_dev/Y_test_meandev\n",
    "print(\"Pseudo-R2 =\", pseudor2)"
   ]
  },
  {
   "cell_type": "code",
   "execution_count": 52,
   "metadata": {},
   "outputs": [
    {
     "data": {
      "text/html": [],
      "text/plain": [
       "<IPython.core.display.HTML object>"
      ]
     },
     "metadata": {},
     "output_type": "display_data"
    }
   ],
   "source": [
    "test_df = df[round(len(df)*0.8):].copy()\n",
    "test_df.rename(columns={\"cnt\":\"cnt_real\"})\n",
    "dl = learn.dls.test_dl(test_df)\n",
    "preds = learn.get_preds(dl=dl)\n",
    "test_df[\"cnt_pred\"] = [preds[0][i].item() for i in range(0, len(preds[0]))]\n",
    "test_df[\"cnt_norm\"] = test_df[\"cnt\"].apply(lambda x: x * (min_max[\"max\"][0] - min_max[\"min\"][0]) + min_max[\"min\"][0])\n",
    "test_df[\"cnt_pred_norm\"] = test_df[\"cnt_pred\"].apply(lambda x: round(x * (min_max[\"max\"][0] - min_max[\"min\"][0]) + min_max[\"min\"][0]))\n",
    "\n",
    "if not os.path.exists(\"./data/predictions\"):\n",
    "    os.makedirs(\"./data/predictions\")\n",
    "\n",
    "compressed_pickle(\"./data/predictions/fastai\", test_df)"
   ]
  },
  {
   "cell_type": "code",
   "execution_count": 53,
   "metadata": {},
   "outputs": [
    {
     "data": {
      "text/html": [
       "<div>\n",
       "<style scoped>\n",
       "    .dataframe tbody tr th:only-of-type {\n",
       "        vertical-align: middle;\n",
       "    }\n",
       "\n",
       "    .dataframe tbody tr th {\n",
       "        vertical-align: top;\n",
       "    }\n",
       "\n",
       "    .dataframe thead th {\n",
       "        text-align: right;\n",
       "    }\n",
       "</style>\n",
       "<table border=\"1\" class=\"dataframe\">\n",
       "  <thead>\n",
       "    <tr style=\"text-align: right;\">\n",
       "      <th></th>\n",
       "      <th>datetime</th>\n",
       "      <th>season</th>\n",
       "      <th>yr</th>\n",
       "      <th>mnth</th>\n",
       "      <th>hr</th>\n",
       "      <th>holiday</th>\n",
       "      <th>weekday</th>\n",
       "      <th>workingday</th>\n",
       "      <th>weathersit</th>\n",
       "      <th>temp</th>\n",
       "      <th>hum</th>\n",
       "      <th>windspeed</th>\n",
       "      <th>cnt</th>\n",
       "      <th>cnt_pred</th>\n",
       "      <th>cnt_norm</th>\n",
       "      <th>cnt_pred_norm</th>\n",
       "    </tr>\n",
       "  </thead>\n",
       "  <tbody>\n",
       "    <tr>\n",
       "      <th>14035</th>\n",
       "      <td>2012-08-07 19:00:00</td>\n",
       "      <td>3.0</td>\n",
       "      <td>1.0</td>\n",
       "      <td>8</td>\n",
       "      <td>19</td>\n",
       "      <td>0.0</td>\n",
       "      <td>1</td>\n",
       "      <td>1.0</td>\n",
       "      <td>2.0</td>\n",
       "      <td>0.755102</td>\n",
       "      <td>0.66</td>\n",
       "      <td>0.122840</td>\n",
       "      <td>0.623975</td>\n",
       "      <td>0.698634</td>\n",
       "      <td>610.0</td>\n",
       "      <td>683.0</td>\n",
       "    </tr>\n",
       "    <tr>\n",
       "      <th>14036</th>\n",
       "      <td>2012-08-07 20:00:00</td>\n",
       "      <td>3.0</td>\n",
       "      <td>1.0</td>\n",
       "      <td>8</td>\n",
       "      <td>20</td>\n",
       "      <td>0.0</td>\n",
       "      <td>1</td>\n",
       "      <td>1.0</td>\n",
       "      <td>2.0</td>\n",
       "      <td>0.734694</td>\n",
       "      <td>0.70</td>\n",
       "      <td>0.157870</td>\n",
       "      <td>0.457992</td>\n",
       "      <td>0.516423</td>\n",
       "      <td>448.0</td>\n",
       "      <td>505.0</td>\n",
       "    </tr>\n",
       "    <tr>\n",
       "      <th>14037</th>\n",
       "      <td>2012-08-07 21:00:00</td>\n",
       "      <td>3.0</td>\n",
       "      <td>1.0</td>\n",
       "      <td>8</td>\n",
       "      <td>21</td>\n",
       "      <td>0.0</td>\n",
       "      <td>1</td>\n",
       "      <td>1.0</td>\n",
       "      <td>2.0</td>\n",
       "      <td>0.714286</td>\n",
       "      <td>0.74</td>\n",
       "      <td>0.000000</td>\n",
       "      <td>0.323770</td>\n",
       "      <td>0.310445</td>\n",
       "      <td>317.0</td>\n",
       "      <td>304.0</td>\n",
       "    </tr>\n",
       "    <tr>\n",
       "      <th>14038</th>\n",
       "      <td>2012-08-07 22:00:00</td>\n",
       "      <td>3.0</td>\n",
       "      <td>1.0</td>\n",
       "      <td>8</td>\n",
       "      <td>22</td>\n",
       "      <td>0.0</td>\n",
       "      <td>1</td>\n",
       "      <td>1.0</td>\n",
       "      <td>1.0</td>\n",
       "      <td>0.714286</td>\n",
       "      <td>0.74</td>\n",
       "      <td>0.122840</td>\n",
       "      <td>0.228484</td>\n",
       "      <td>0.260372</td>\n",
       "      <td>224.0</td>\n",
       "      <td>255.0</td>\n",
       "    </tr>\n",
       "    <tr>\n",
       "      <th>14039</th>\n",
       "      <td>2012-08-07 23:00:00</td>\n",
       "      <td>3.0</td>\n",
       "      <td>1.0</td>\n",
       "      <td>8</td>\n",
       "      <td>23</td>\n",
       "      <td>0.0</td>\n",
       "      <td>1</td>\n",
       "      <td>1.0</td>\n",
       "      <td>1.0</td>\n",
       "      <td>0.714286</td>\n",
       "      <td>0.79</td>\n",
       "      <td>0.000000</td>\n",
       "      <td>0.140369</td>\n",
       "      <td>0.176163</td>\n",
       "      <td>138.0</td>\n",
       "      <td>173.0</td>\n",
       "    </tr>\n",
       "    <tr>\n",
       "      <th>...</th>\n",
       "      <td>...</td>\n",
       "      <td>...</td>\n",
       "      <td>...</td>\n",
       "      <td>...</td>\n",
       "      <td>...</td>\n",
       "      <td>...</td>\n",
       "      <td>...</td>\n",
       "      <td>...</td>\n",
       "      <td>...</td>\n",
       "      <td>...</td>\n",
       "      <td>...</td>\n",
       "      <td>...</td>\n",
       "      <td>...</td>\n",
       "      <td>...</td>\n",
       "      <td>...</td>\n",
       "      <td>...</td>\n",
       "    </tr>\n",
       "    <tr>\n",
       "      <th>17539</th>\n",
       "      <td>2012-12-31 19:00:00</td>\n",
       "      <td>1.0</td>\n",
       "      <td>1.0</td>\n",
       "      <td>12</td>\n",
       "      <td>19</td>\n",
       "      <td>0.0</td>\n",
       "      <td>0</td>\n",
       "      <td>1.0</td>\n",
       "      <td>2.0</td>\n",
       "      <td>0.244898</td>\n",
       "      <td>0.60</td>\n",
       "      <td>0.193018</td>\n",
       "      <td>0.120902</td>\n",
       "      <td>0.238927</td>\n",
       "      <td>119.0</td>\n",
       "      <td>234.0</td>\n",
       "    </tr>\n",
       "    <tr>\n",
       "      <th>17540</th>\n",
       "      <td>2012-12-31 20:00:00</td>\n",
       "      <td>1.0</td>\n",
       "      <td>1.0</td>\n",
       "      <td>12</td>\n",
       "      <td>20</td>\n",
       "      <td>0.0</td>\n",
       "      <td>0</td>\n",
       "      <td>1.0</td>\n",
       "      <td>2.0</td>\n",
       "      <td>0.244898</td>\n",
       "      <td>0.60</td>\n",
       "      <td>0.193018</td>\n",
       "      <td>0.090164</td>\n",
       "      <td>0.160298</td>\n",
       "      <td>89.0</td>\n",
       "      <td>157.0</td>\n",
       "    </tr>\n",
       "    <tr>\n",
       "      <th>17541</th>\n",
       "      <td>2012-12-31 21:00:00</td>\n",
       "      <td>1.0</td>\n",
       "      <td>1.0</td>\n",
       "      <td>12</td>\n",
       "      <td>21</td>\n",
       "      <td>0.0</td>\n",
       "      <td>0</td>\n",
       "      <td>1.0</td>\n",
       "      <td>1.0</td>\n",
       "      <td>0.244898</td>\n",
       "      <td>0.60</td>\n",
       "      <td>0.193018</td>\n",
       "      <td>0.091189</td>\n",
       "      <td>0.120509</td>\n",
       "      <td>90.0</td>\n",
       "      <td>119.0</td>\n",
       "    </tr>\n",
       "    <tr>\n",
       "      <th>17542</th>\n",
       "      <td>2012-12-31 22:00:00</td>\n",
       "      <td>1.0</td>\n",
       "      <td>1.0</td>\n",
       "      <td>12</td>\n",
       "      <td>22</td>\n",
       "      <td>0.0</td>\n",
       "      <td>0</td>\n",
       "      <td>1.0</td>\n",
       "      <td>1.0</td>\n",
       "      <td>0.244898</td>\n",
       "      <td>0.56</td>\n",
       "      <td>0.157870</td>\n",
       "      <td>0.061475</td>\n",
       "      <td>0.094423</td>\n",
       "      <td>61.0</td>\n",
       "      <td>93.0</td>\n",
       "    </tr>\n",
       "    <tr>\n",
       "      <th>17543</th>\n",
       "      <td>2012-12-31 23:00:00</td>\n",
       "      <td>1.0</td>\n",
       "      <td>1.0</td>\n",
       "      <td>12</td>\n",
       "      <td>23</td>\n",
       "      <td>0.0</td>\n",
       "      <td>0</td>\n",
       "      <td>1.0</td>\n",
       "      <td>1.0</td>\n",
       "      <td>0.244898</td>\n",
       "      <td>0.65</td>\n",
       "      <td>0.157870</td>\n",
       "      <td>0.049180</td>\n",
       "      <td>0.067064</td>\n",
       "      <td>49.0</td>\n",
       "      <td>66.0</td>\n",
       "    </tr>\n",
       "  </tbody>\n",
       "</table>\n",
       "<p>3509 rows × 16 columns</p>\n",
       "</div>"
      ],
      "text/plain": [
       "                  datetime  season   yr  mnth  hr  holiday  weekday  \\\n",
       "14035  2012-08-07 19:00:00     3.0  1.0     8  19      0.0        1   \n",
       "14036  2012-08-07 20:00:00     3.0  1.0     8  20      0.0        1   \n",
       "14037  2012-08-07 21:00:00     3.0  1.0     8  21      0.0        1   \n",
       "14038  2012-08-07 22:00:00     3.0  1.0     8  22      0.0        1   \n",
       "14039  2012-08-07 23:00:00     3.0  1.0     8  23      0.0        1   \n",
       "...                    ...     ...  ...   ...  ..      ...      ...   \n",
       "17539  2012-12-31 19:00:00     1.0  1.0    12  19      0.0        0   \n",
       "17540  2012-12-31 20:00:00     1.0  1.0    12  20      0.0        0   \n",
       "17541  2012-12-31 21:00:00     1.0  1.0    12  21      0.0        0   \n",
       "17542  2012-12-31 22:00:00     1.0  1.0    12  22      0.0        0   \n",
       "17543  2012-12-31 23:00:00     1.0  1.0    12  23      0.0        0   \n",
       "\n",
       "       workingday  weathersit      temp   hum  windspeed       cnt  cnt_pred  \\\n",
       "14035         1.0         2.0  0.755102  0.66   0.122840  0.623975  0.698634   \n",
       "14036         1.0         2.0  0.734694  0.70   0.157870  0.457992  0.516423   \n",
       "14037         1.0         2.0  0.714286  0.74   0.000000  0.323770  0.310445   \n",
       "14038         1.0         1.0  0.714286  0.74   0.122840  0.228484  0.260372   \n",
       "14039         1.0         1.0  0.714286  0.79   0.000000  0.140369  0.176163   \n",
       "...           ...         ...       ...   ...        ...       ...       ...   \n",
       "17539         1.0         2.0  0.244898  0.60   0.193018  0.120902  0.238927   \n",
       "17540         1.0         2.0  0.244898  0.60   0.193018  0.090164  0.160298   \n",
       "17541         1.0         1.0  0.244898  0.60   0.193018  0.091189  0.120509   \n",
       "17542         1.0         1.0  0.244898  0.56   0.157870  0.061475  0.094423   \n",
       "17543         1.0         1.0  0.244898  0.65   0.157870  0.049180  0.067064   \n",
       "\n",
       "       cnt_norm  cnt_pred_norm  \n",
       "14035     610.0          683.0  \n",
       "14036     448.0          505.0  \n",
       "14037     317.0          304.0  \n",
       "14038     224.0          255.0  \n",
       "14039     138.0          173.0  \n",
       "...         ...            ...  \n",
       "17539     119.0          234.0  \n",
       "17540      89.0          157.0  \n",
       "17541      90.0          119.0  \n",
       "17542      61.0           93.0  \n",
       "17543      49.0           66.0  \n",
       "\n",
       "[3509 rows x 16 columns]"
      ]
     },
     "execution_count": 53,
     "metadata": {},
     "output_type": "execute_result"
    }
   ],
   "source": [
    "test_df"
   ]
  }
 ],
 "metadata": {
  "kernelspec": {
   "display_name": "Python 3",
   "language": "python",
   "name": "python3"
  },
  "language_info": {
   "codemirror_mode": {
    "name": "ipython",
    "version": 3
   },
   "file_extension": ".py",
   "mimetype": "text/x-python",
   "name": "python",
   "nbconvert_exporter": "python",
   "pygments_lexer": "ipython3",
   "version": "3.8.3"
  }
 },
 "nbformat": 4,
 "nbformat_minor": 4
}
